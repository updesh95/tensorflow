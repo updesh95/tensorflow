{
  "nbformat": 4,
  "nbformat_minor": 0,
  "metadata": {
    "colab": {
      "name": "Transfer_learning_Feature_Extraction.ipynb",
      "provenance": [],
      "collapsed_sections": []
    },
    "kernelspec": {
      "name": "python3",
      "display_name": "Python 3"
    },
    "language_info": {
      "name": "python"
    },
    "accelerator": "GPU"
  },
  "cells": [
    {
      "cell_type": "code",
      "metadata": {
        "colab": {
          "base_uri": "https://localhost:8080/"
        },
        "id": "_3kYGD5LNu-z",
        "outputId": "1aa46c7e-2c12-48da-b283-ed979097f282"
      },
      "source": [
        "!nvidia-smi\n"
      ],
      "execution_count": 1,
      "outputs": [
        {
          "output_type": "stream",
          "text": [
            "Thu Aug 12 06:06:16 2021       \n",
            "+-----------------------------------------------------------------------------+\n",
            "| NVIDIA-SMI 470.42.01    Driver Version: 460.32.03    CUDA Version: 11.2     |\n",
            "|-------------------------------+----------------------+----------------------+\n",
            "| GPU  Name        Persistence-M| Bus-Id        Disp.A | Volatile Uncorr. ECC |\n",
            "| Fan  Temp  Perf  Pwr:Usage/Cap|         Memory-Usage | GPU-Util  Compute M. |\n",
            "|                               |                      |               MIG M. |\n",
            "|===============================+======================+======================|\n",
            "|   0  Tesla K80           Off  | 00000000:00:04.0 Off |                    0 |\n",
            "| N/A   59C    P8    30W / 149W |      0MiB / 11441MiB |      0%      Default |\n",
            "|                               |                      |                  N/A |\n",
            "+-------------------------------+----------------------+----------------------+\n",
            "                                                                               \n",
            "+-----------------------------------------------------------------------------+\n",
            "| Processes:                                                                  |\n",
            "|  GPU   GI   CI        PID   Type   Process name                  GPU Memory |\n",
            "|        ID   ID                                                   Usage      |\n",
            "|=============================================================================|\n",
            "|  No running processes found                                                 |\n",
            "+-----------------------------------------------------------------------------+\n"
          ],
          "name": "stdout"
        }
      ]
    },
    {
      "cell_type": "code",
      "metadata": {
        "colab": {
          "base_uri": "https://localhost:8080/"
        },
        "id": "_cugNHRpQ1zE",
        "outputId": "89f8181f-cdbd-44c4-80a9-8b3f65c91d06"
      },
      "source": [
        "import zipfile\n",
        "\n",
        "!wget https://storage.googleapis.com/ztm_tf_course/food_vision/10_food_classes_10_percent.zip\n",
        "\n",
        "zip_ref = zipfile.ZipFile(\"10_food_classes_10_percent.zip\")\n",
        "zip_ref.extractall()\n",
        "zip_ref.close()"
      ],
      "execution_count": 2,
      "outputs": [
        {
          "output_type": "stream",
          "text": [
            "--2021-08-12 06:06:16--  https://storage.googleapis.com/ztm_tf_course/food_vision/10_food_classes_10_percent.zip\n",
            "Resolving storage.googleapis.com (storage.googleapis.com)... 64.233.167.128, 74.125.71.128, 74.125.133.128, ...\n",
            "Connecting to storage.googleapis.com (storage.googleapis.com)|64.233.167.128|:443... connected.\n",
            "HTTP request sent, awaiting response... 200 OK\n",
            "Length: 168546183 (161M) [application/zip]\n",
            "Saving to: ‘10_food_classes_10_percent.zip’\n",
            "\n",
            "10_food_classes_10_ 100%[===================>] 160.74M  27.4MB/s    in 5.9s    \n",
            "\n",
            "2021-08-12 06:06:23 (27.4 MB/s) - ‘10_food_classes_10_percent.zip’ saved [168546183/168546183]\n",
            "\n"
          ],
          "name": "stdout"
        }
      ]
    },
    {
      "cell_type": "code",
      "metadata": {
        "colab": {
          "base_uri": "https://localhost:8080/"
        },
        "id": "BgWMNmFgRauc",
        "outputId": "55153503-5297-4fb9-b247-126b063bed6c"
      },
      "source": [
        "import os\n",
        "\n",
        "for dirpath, dirnames, filenames in os.walk(\"10_food_classes_10_percent\"):\n",
        "  print(f'There are {len(dirnames)} directories and {len(filenames)} images in {dirpath}')"
      ],
      "execution_count": 3,
      "outputs": [
        {
          "output_type": "stream",
          "text": [
            "There are 2 directories and 0 images in 10_food_classes_10_percent\n",
            "There are 10 directories and 0 images in 10_food_classes_10_percent/test\n",
            "There are 0 directories and 250 images in 10_food_classes_10_percent/test/fried_rice\n",
            "There are 0 directories and 250 images in 10_food_classes_10_percent/test/ramen\n",
            "There are 0 directories and 250 images in 10_food_classes_10_percent/test/hamburger\n",
            "There are 0 directories and 250 images in 10_food_classes_10_percent/test/sushi\n",
            "There are 0 directories and 250 images in 10_food_classes_10_percent/test/pizza\n",
            "There are 0 directories and 250 images in 10_food_classes_10_percent/test/ice_cream\n",
            "There are 0 directories and 250 images in 10_food_classes_10_percent/test/chicken_wings\n",
            "There are 0 directories and 250 images in 10_food_classes_10_percent/test/steak\n",
            "There are 0 directories and 250 images in 10_food_classes_10_percent/test/grilled_salmon\n",
            "There are 0 directories and 250 images in 10_food_classes_10_percent/test/chicken_curry\n",
            "There are 10 directories and 0 images in 10_food_classes_10_percent/train\n",
            "There are 0 directories and 75 images in 10_food_classes_10_percent/train/fried_rice\n",
            "There are 0 directories and 75 images in 10_food_classes_10_percent/train/ramen\n",
            "There are 0 directories and 75 images in 10_food_classes_10_percent/train/hamburger\n",
            "There are 0 directories and 75 images in 10_food_classes_10_percent/train/sushi\n",
            "There are 0 directories and 75 images in 10_food_classes_10_percent/train/pizza\n",
            "There are 0 directories and 75 images in 10_food_classes_10_percent/train/ice_cream\n",
            "There are 0 directories and 75 images in 10_food_classes_10_percent/train/chicken_wings\n",
            "There are 0 directories and 75 images in 10_food_classes_10_percent/train/steak\n",
            "There are 0 directories and 75 images in 10_food_classes_10_percent/train/grilled_salmon\n",
            "There are 0 directories and 75 images in 10_food_classes_10_percent/train/chicken_curry\n"
          ],
          "name": "stdout"
        }
      ]
    },
    {
      "cell_type": "code",
      "metadata": {
        "id": "qtofiY6HR6BE"
      },
      "source": [
        "from tensorflow.keras.preprocessing.image import ImageDataGenerator\n",
        "\n",
        "IMAGE_SHAPE = (224, 224)\n",
        "BATCH_SIZE = 32\n",
        "\n",
        "train_dir = \"10_food_classes_10_percent/train/\"\n",
        "\n",
        "test_dir = \"10_food_classes_10_percent/test/\"\n",
        "\n",
        "train_datagen = ImageDataGenerator(rescale = 1/255.)\n",
        "test_datagen = ImageDataGenerator(rescale = 1/255.)\n"
      ],
      "execution_count": 4,
      "outputs": []
    },
    {
      "cell_type": "code",
      "metadata": {
        "colab": {
          "base_uri": "https://localhost:8080/"
        },
        "id": "DTgjtgbCSyI4",
        "outputId": "e78e34ca-bdc8-4877-a03d-2b512aff3c55"
      },
      "source": [
        "train_data_10_percent = train_datagen.flow_from_directory(train_dir,\n",
        "                                                          target_size = IMAGE_SHAPE,\n",
        "                                                          batch_size = BATCH_SIZE,\n",
        "                                                          class_mode = \"categorical\")\n",
        "\n",
        "test_data_10_percent = test_datagen.flow_from_directory(test_dir,\n",
        "                                                        target_size = IMAGE_SHAPE,\n",
        "                                                        batch_size = BATCH_SIZE,\n",
        "                                                        class_mode=\"categorical\")"
      ],
      "execution_count": 5,
      "outputs": [
        {
          "output_type": "stream",
          "text": [
            "Found 750 images belonging to 10 classes.\n",
            "Found 2500 images belonging to 10 classes.\n"
          ],
          "name": "stdout"
        }
      ]
    },
    {
      "cell_type": "markdown",
      "metadata": {
        "id": "oF3T-oQJTzXY"
      },
      "source": [
        "## Callbacks\n",
        "Callbacks are extra functionality you can add to your models to be performed during or after training.<br>\n",
        "Types:\n",
        "* Tensorboard(Experiment tracking of different models)\n",
        "* Model Checkpoint\n",
        "* Early stopping"
      ]
    },
    {
      "cell_type": "code",
      "metadata": {
        "id": "ex5Ad6dBTjqB"
      },
      "source": [
        "import datetime\n",
        "\n",
        "def create_tensorboard_callback(dir_name, experiment_name):\n",
        "  log_dir = dir_name + \"/\" + experiment_name + \"/\" + datetime.datetime.now().strftime(\"%Y%m%d-%H%M%S\")\n",
        "  tensorboard_callback = tf.keras.callbacks.TensorBoard(log_dir = log_dir)\n",
        "  print(f'Saving tensorboard log files to :{log_dir}')\n",
        "  return tensorboard_callback"
      ],
      "execution_count": 6,
      "outputs": []
    },
    {
      "cell_type": "markdown",
      "metadata": {
        "id": "t1a8ZhClWDWz"
      },
      "source": [
        "Creating models from Tensorflow Hub"
      ]
    },
    {
      "cell_type": "code",
      "metadata": {
        "id": "BfkezZWgVy6G"
      },
      "source": [
        "# lets compare following two moels\n",
        "resenet_url=\"https://tfhub.dev/google/imagenet/resnet_v2_50/feature_vector/1\"\n",
        "\n",
        "efficientnet_url = \"https://tfhub.dev/google/efficientnet/b0/feature-vector/1\""
      ],
      "execution_count": 7,
      "outputs": []
    },
    {
      "cell_type": "code",
      "metadata": {
        "id": "RcySyyud3sqJ"
      },
      "source": [
        "import tensorflow as tf\n",
        "import tensorflow_hub as hub\n",
        "from tensorflow.keras import layers"
      ],
      "execution_count": 8,
      "outputs": []
    },
    {
      "cell_type": "markdown",
      "metadata": {
        "id": "RxnkKk-Z6htl"
      },
      "source": [
        ""
      ]
    },
    {
      "cell_type": "code",
      "metadata": {
        "id": "jePWpE9q3zHq"
      },
      "source": [
        "def create_model(model_url, num_classes = 10):\n",
        "  \"\"\"\n",
        "  Takes a tensoflow hub url and creates a keras sequential model with it\n",
        "  \"\"\"\n",
        "  feature_extractor_layer = hub.KerasLayer(model_url, trainable = False,\n",
        "                                           name =  \"Feature_Extraction_layer\",\n",
        "                                           input_shape = IMAGE_SHAPE+(3,))\n",
        "  \n",
        "  model = tf.keras.Sequential([\n",
        "                               feature_extractor_layer,\n",
        "                               layers.Dense(num_classes, activation=\"softmax\", name=\"output_layer\")\n",
        "  ])\n",
        "  \n",
        "  return model\n"
      ],
      "execution_count": 9,
      "outputs": []
    },
    {
      "cell_type": "code",
      "metadata": {
        "id": "uOshvpCI5Nut"
      },
      "source": [
        "resnet_model = create_model(resenet_url,train_data_10_percent.num_classes)"
      ],
      "execution_count": 10,
      "outputs": []
    },
    {
      "cell_type": "code",
      "metadata": {
        "colab": {
          "base_uri": "https://localhost:8080/"
        },
        "id": "PlfAE1u65X6A",
        "outputId": "060a3acd-cb25-4583-c839-ece72ded01ce"
      },
      "source": [
        "resnet_model.summary()"
      ],
      "execution_count": 11,
      "outputs": [
        {
          "output_type": "stream",
          "text": [
            "Model: \"sequential\"\n",
            "_________________________________________________________________\n",
            "Layer (type)                 Output Shape              Param #   \n",
            "=================================================================\n",
            "Feature_Extraction_layer (Ke (None, 2048)              23564800  \n",
            "_________________________________________________________________\n",
            "output_layer (Dense)         (None, 10)                20490     \n",
            "=================================================================\n",
            "Total params: 23,585,290\n",
            "Trainable params: 20,490\n",
            "Non-trainable params: 23,564,800\n",
            "_________________________________________________________________\n"
          ],
          "name": "stdout"
        }
      ]
    },
    {
      "cell_type": "code",
      "metadata": {
        "id": "ryQd4U4t5as-"
      },
      "source": [
        "resnet_model.compile(loss=\"categorical_crossentropy\",\n",
        "                    optimizer = tf.keras.optimizers.Adam(),\n",
        "                    metrics = ['accuracy'])\n"
      ],
      "execution_count": 12,
      "outputs": []
    },
    {
      "cell_type": "code",
      "metadata": {
        "colab": {
          "base_uri": "https://localhost:8080/"
        },
        "id": "_BAygemY6Kt8",
        "outputId": "5e16b8ee-0a10-479c-c7de-988dd31626de"
      },
      "source": [
        "history_resnet = resnet_model.fit(train_data_10_percent,\n",
        "                 batch_size = 32,\n",
        "                 epochs = 5,\n",
        "                 validation_data=test_data_10_percent,\n",
        "                 validation_steps = len(test_data_10_percent),\n",
        "                 steps_per_epoch=len(train_data_10_percent),\n",
        "                 callbacks = [create_tensorboard_callback(dir_name=\"tensorflow_hub\",\n",
        "                                                          experiment_name=\"resnet50v2\")]\n",
        "                 )"
      ],
      "execution_count": 13,
      "outputs": [
        {
          "output_type": "stream",
          "text": [
            "Saving tensorboard log files to :tensorflow_hub/resnet50v2/20210812-060640\n",
            "Epoch 1/5\n",
            "24/24 [==============================] - 56s 1s/step - loss: 1.9036 - accuracy: 0.3747 - val_loss: 1.2313 - val_accuracy: 0.6088\n",
            "Epoch 2/5\n",
            "24/24 [==============================] - 22s 930ms/step - loss: 0.8943 - accuracy: 0.7427 - val_loss: 0.8512 - val_accuracy: 0.7364\n",
            "Epoch 3/5\n",
            "24/24 [==============================] - 22s 922ms/step - loss: 0.6200 - accuracy: 0.8200 - val_loss: 0.7507 - val_accuracy: 0.7640\n",
            "Epoch 4/5\n",
            "24/24 [==============================] - 21s 914ms/step - loss: 0.4738 - accuracy: 0.8827 - val_loss: 0.6966 - val_accuracy: 0.7760\n",
            "Epoch 5/5\n",
            "24/24 [==============================] - 22s 922ms/step - loss: 0.3738 - accuracy: 0.9200 - val_loss: 0.6735 - val_accuracy: 0.7796\n"
          ],
          "name": "stdout"
        }
      ]
    },
    {
      "cell_type": "code",
      "metadata": {
        "id": "pRD6qe3_6zYb"
      },
      "source": [
        "import matplotlib.pyplot as plt\n",
        "\n",
        "\n",
        "def plot_loss_curves(history):\n",
        "  loss = history.history['loss']\n",
        "  val_loss = history.history['val_loss']\n",
        "\n",
        "  accuracy = history.history['accuracy']\n",
        "  val_accuracy = history.history['val_accuracy']\n",
        "\n",
        "  epochs = range(len(history.history['loss']))\n",
        "\n",
        "  plt.plot(epochs, loss, label=\"training_loss\")\n",
        "  plt.plot(epochs, val_loss, label = \"val_loss\")\n",
        "  plt.title(\"loss\")\n",
        "  plt.xlabel(\"Epochs\")\n",
        "  plt.legend()\n",
        "\n",
        "  plt.figure()\n",
        "  plt.plot(epochs, accuracy, label=\"training_accuracy\")\n",
        "  plt.plot(epochs, val_accuracy, label = \"val_accuracy\")\n",
        "\n",
        "  plt.title(\"Accuracy\")\n",
        "  plt.xlabel(\"Epochs\")\n",
        "  plt.legend();\n"
      ],
      "execution_count": 14,
      "outputs": []
    },
    {
      "cell_type": "code",
      "metadata": {
        "colab": {
          "base_uri": "https://localhost:8080/",
          "height": 573
        },
        "id": "0_-QLt8Y--Aj",
        "outputId": "5090d54d-4e89-4f52-80b4-815bbf2e6142"
      },
      "source": [
        "plot_loss_curves(history_resnet)"
      ],
      "execution_count": 15,
      "outputs": [
        {
          "output_type": "display_data",
          "data": {
            "image/png": "[encoded data removed]",
            "text/plain": [
              "<Figure size 432x288 with 1 Axes>"
            ]
          },
          "metadata": {
            "tags": [],
            "needs_background": "light"
          }
        },
        {
          "output_type": "display_data",
          "data": {
            "image/png": "[encoded data removed]",
            "text/plain": [
              "<Figure size 432x288 with 1 Axes>"
            ]
          },
          "metadata": {
            "tags": [],
            "needs_background": "light"
          }
        }
      ]
    },
    {
      "cell_type": "code",
      "metadata": {
        "id": "2NHU5I3y_QgU"
      },
      "source": [
        "# creating efficient net architecture"
      ],
      "execution_count": 16,
      "outputs": []
    },
    {
      "cell_type": "code",
      "metadata": {
        "id": "mnGnIoWxd3TU"
      },
      "source": [
        "efficientnet_model = create_model(efficientnet_url, train_data_10_percent.num_classes)"
      ],
      "execution_count": 17,
      "outputs": []
    },
    {
      "cell_type": "code",
      "metadata": {
        "colab": {
          "base_uri": "https://localhost:8080/"
        },
        "id": "hiLEW8A5eBuc",
        "outputId": "0f6aca65-190f-4f84-ba5a-837130931547"
      },
      "source": [
        "efficientnet_model.compile(loss = \"categorical_crossentropy\",\n",
        "                           optimizer = tf.keras.optimizers.Adam(),\n",
        "                           metrics = ['accuracy'])\n",
        "\n",
        "eff_history = efficientnet_model.fit(train_data_10_percent,\n",
        "                                     epochs = 5,\n",
        "                                     validation_data=test_data_10_percent,\n",
        "                                     validation_steps = len(test_data_10_percent),\n",
        "                                     steps_per_epoch= len(train_data_10_percent),\n",
        "                                     callbacks = [create_tensorboard_callback(\"tensorflow_hub\",\"efficientnetb0\")])"
      ],
      "execution_count": 18,
      "outputs": [
        {
          "output_type": "stream",
          "text": [
            "Saving tensorboard log files to :tensorflow_hub/efficientnetb0/20210812-060909\n",
            "Epoch 1/5\n",
            "24/24 [==============================] - 26s 919ms/step - loss: 1.8345 - accuracy: 0.4280 - val_loss: 1.2889 - val_accuracy: 0.7264\n",
            "Epoch 2/5\n",
            "24/24 [==============================] - 19s 807ms/step - loss: 1.0394 - accuracy: 0.7787 - val_loss: 0.8691 - val_accuracy: 0.8052\n",
            "Epoch 3/5\n",
            "24/24 [==============================] - 19s 807ms/step - loss: 0.7461 - accuracy: 0.8267 - val_loss: 0.6988 - val_accuracy: 0.8444\n",
            "Epoch 4/5\n",
            "24/24 [==============================] - 19s 798ms/step - loss: 0.5999 - accuracy: 0.8613 - val_loss: 0.6127 - val_accuracy: 0.8516\n",
            "Epoch 5/5\n",
            "24/24 [==============================] - 18s 792ms/step - loss: 0.5124 - accuracy: 0.8813 - val_loss: 0.5594 - val_accuracy: 0.8624\n"
          ],
          "name": "stdout"
        }
      ]
    },
    {
      "cell_type": "code",
      "metadata": {
        "colab": {
          "base_uri": "https://localhost:8080/",
          "height": 573
        },
        "id": "TNZPmI7cep09",
        "outputId": "60cff02c-1acb-40cf-da9c-33b34b2caba6"
      },
      "source": [
        "plot_loss_curves(eff_history)"
      ],
      "execution_count": 19,
      "outputs": [
        {
          "output_type": "display_data",
          "data": {
            "image/png": "[encoded data removed]",
            "text/plain": [
              "<Figure size 432x288 with 1 Axes>"
            ]
          },
          "metadata": {
            "tags": [],
            "needs_background": "light"
          }
        },
        {
          "output_type": "display_data",
          "data": {
            "image/png": "[encoded data removed]",
            "text/plain": [
              "<Figure size 432x288 with 1 Axes>"
            ]
          },
          "metadata": {
            "tags": [],
            "needs_background": "light"
          }
        }
      ]
    },
    {
      "cell_type": "markdown",
      "metadata": {
        "id": "ntakiHlig9bc"
      },
      "source": [
        "Feature Extraction --> is a type of transfer learning where we use prelearned patterns of an existing model(eg efficientNEtb0 trained on ImageNEt) and adjust the output layer according to your own problem.<br>\n",
        "Fine Tuning --> Using the already trained model and fine tuning the internal layers incuding the new output layers"
      ]
    },
    {
      "cell_type": "markdown",
      "metadata": {
        "id": "kh-jCxPb-ME-"
      },
      "source": [
        "Tensorboard is a way to visually explore your machine learning models performance and internals<br>\n",
        "Host, track and share your machine learning experiments on TensorBoard.dev"
      ]
    },
    {
      "cell_type": "code",
      "metadata": {
        "id": "H1x6_Xkt-L1w"
      },
      "source": [
        "# Upload tensorboard \n",
        "!tensorboard dev upload --logdir ./tensorflow_hub/ \\\n",
        "  --name \"EfficientNetb0 vs Resnet50v2\" \\\n",
        "  --description \"Comparing two different TF Hub feature extraction model architectures\" \\\n",
        "  --one_shot"
      ],
      "execution_count": null,
      "outputs": []
    },
    {
      "cell_type": "code",
      "metadata": {
        "id": "HVHMPg4bhXZM"
      },
      "source": [
        "#check what has already uploaded by you\n",
        "!tensorboard dev list"
      ],
      "execution_count": null,
      "outputs": []
    },
    {
      "cell_type": "code",
      "metadata": {
        "id": "wDKk7aoKA8g5"
      },
      "source": [
        "# Delete an experiment\n",
        "# !tensorboard dev delete --experiment_id ---------"
      ],
      "execution_count": null,
      "outputs": []
    }
  ]
}