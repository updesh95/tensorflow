{
 "cells": [
  {
   "cell_type": "code",
   "execution_count": 2,
   "metadata": {},
   "outputs": [],
   "source": [
    "import numpy as np\n",
    "import pdb"
   ]
  },
  {
   "cell_type": "code",
   "execution_count": 33,
   "metadata": {},
   "outputs": [],
   "source": [
    "\n",
    "def isValid(s: str) -> bool:\n",
    "    # store length , intiate pointer and turn string into list\n",
    "    length = len(s) \n",
    "    idx = 0\n",
    "    s = list(s)\n",
    "    par_dic = {'(' : 0, '[' : 1 , '{' : 2 ,')' : 3 , ']' : 4 , '}' : 5}\n",
    "    \n",
    "    # while pointer is smaller than length -1, as the final pointer will be at the 2nd last to check \n",
    "    while idx < length-1:\n",
    "\n",
    "        holder = par_dic[s[idx]]\n",
    "        # if the position in dictionary is differed by -3 -> it is the correct bracket\n",
    "        if holder - par_dic[s[idx+1]] == -3:\n",
    "            # delete the matching values, both are idx because after deleting the index decreases by 1\n",
    "            del s[idx]\n",
    "            del s[idx]\n",
    "            length = len(s)\n",
    "            idx = -1\n",
    "        if len(s) == 0:\n",
    "            return True\n",
    "        idx = idx + 1\n",
    "    \n",
    "    # if len not = 0 , there were non-matching pairs\n",
    "    return False\n",
    "        \n",
    "        "
   ]
  },
  {
   "cell_type": "code",
   "execution_count": 34,
   "metadata": {
    "scrolled": true
   },
   "outputs": [
    {
     "data": {
      "text/plain": [
       "True"
      ]
     },
     "execution_count": 34,
     "metadata": {},
     "output_type": "execute_result"
    }
   ],
   "source": [
    "isValid(\"()[]{}\")"
   ]
  },
  {
   "cell_type": "code",
   "execution_count": 35,
   "metadata": {},
   "outputs": [
    {
     "data": {
      "text/plain": [
       "True"
      ]
     },
     "execution_count": 35,
     "metadata": {},
     "output_type": "execute_result"
    }
   ],
   "source": [
    "isValid(\"[]{}{[]}\")"
   ]
  },
  {
   "cell_type": "code",
   "execution_count": null,
   "metadata": {},
   "outputs": [],
   "source": []
  }
 ],
 "metadata": {
  "kernelspec": {
   "display_name": "Python 3",
   "language": "python",
   "name": "python3"
  },
  "language_info": {
   "codemirror_mode": {
    "name": "ipython",
    "version": 3
   },
   "file_extension": ".py",
   "mimetype": "text/x-python",
   "name": "python",
   "nbconvert_exporter": "python",
   "pygments_lexer": "ipython3",
   "version": "3.7.4"
  }
 },
 "nbformat": 4,
 "nbformat_minor": 4
}
