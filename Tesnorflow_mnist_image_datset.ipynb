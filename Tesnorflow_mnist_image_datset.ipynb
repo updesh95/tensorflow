{
  "nbformat": 4,
  "nbformat_minor": 0,
  "metadata": {
    "colab": {
      "name": "Tesnorflow_mnist_image_datset.ipynb",
      "provenance": []
    },
    "kernelspec": {
      "name": "python3",
      "display_name": "Python 3"
    },
    "language_info": {
      "name": "python"
    }
  },
  "cells": [
    {
      "cell_type": "code",
      "metadata": {
        "colab": {
          "base_uri": "https://localhost:8080/"
        },
        "id": "cXFCVRfAtc8S",
        "outputId": "e9f4685c-8de8-4365-cc89-244ca53c7da5"
      },
      "source": [
        "import tensorflow as tf\n",
        "from tensorflow.keras.datasets import fashion_mnist\n",
        "\n",
        "(train_data, train_labels), (test_data, test_labels) = fashion_mnist.load_data()"
      ],
      "execution_count": 1,
      "outputs": [
        {
          "output_type": "stream",
          "text": [
            "Downloading data from https://storage.googleapis.com/tensorflow/tf-keras-datasets/train-labels-idx1-ubyte.gz\n",
            "32768/29515 [=================================] - 0s 0us/step\n",
            "Downloading data from https://storage.googleapis.com/tensorflow/tf-keras-datasets/train-images-idx3-ubyte.gz\n",
            "26427392/26421880 [==============================] - 0s 0us/step\n",
            "Downloading data from https://storage.googleapis.com/tensorflow/tf-keras-datasets/t10k-labels-idx1-ubyte.gz\n",
            "8192/5148 [===============================================] - 0s 0us/step\n",
            "Downloading data from https://storage.googleapis.com/tensorflow/tf-keras-datasets/t10k-images-idx3-ubyte.gz\n",
            "4423680/4422102 [==============================] - 0s 0us/step\n"
          ],
          "name": "stdout"
        }
      ]
    },
    {
      "cell_type": "code",
      "metadata": {
        "colab": {
          "base_uri": "https://localhost:8080/"
        },
        "id": "A2vkhMZuto6c",
        "outputId": "fca7a121-ad05-46ff-8058-24ef129aa4d3"
      },
      "source": [
        "#show the first raining example\n",
        "print(f\"Training Sample:\\n{train_data[0].shape}\\n\")\n",
        "print(f\"Training labels:\\n{train_labels[0]}\\n\")"
      ],
      "execution_count": 2,
      "outputs": [
        {
          "output_type": "stream",
          "text": [
            "Training Sample:\n",
            "(28, 28)\n",
            "\n",
            "Training labels:\n",
            "9\n",
            "\n"
          ],
          "name": "stdout"
        }
      ]
    },
    {
      "cell_type": "code",
      "metadata": {
        "colab": {
          "base_uri": "https://localhost:8080/",
          "height": 282
        },
        "id": "oLJOvOJBuMez",
        "outputId": "2445e43b-8547-4650-cc7f-97d7711d98cc"
      },
      "source": [
        "# Visualizing the data\n",
        "import matplotlib.pyplot as plt\n",
        "plt.imshow(train_data[0])"
      ],
      "execution_count": 3,
      "outputs": [
        {
          "output_type": "execute_result",
          "data": {
            "text/plain": [
              "<matplotlib.image.AxesImage at 0x7ff7acccba90>"
            ]
          },
          "metadata": {
            "tags": []
          },
          "execution_count": 3
        },
        {
          "output_type": "display_data",
          "data": {
            "image/png": "[encoded data removed]",
            "text/plain": [
              "<Figure size 432x288 with 1 Axes>"
            ]
          },
          "metadata": {
            "tags": [],
            "needs_background": "light"
          }
        }
      ]
    },
    {
      "cell_type": "code",
      "metadata": {
        "id": "EMJ0OgO0upEz"
      },
      "source": [
        "class_names =['Tshirt', \"Trouser\",\"Pullovr\",\"Dress\",\"Coat\",\"Sandal\",\n",
        "              \"shirt\",\"Sneaker\",\"bag\",\"boot\"]"
      ],
      "execution_count": 4,
      "outputs": []
    },
    {
      "cell_type": "code",
      "metadata": {
        "colab": {
          "base_uri": "https://localhost:8080/"
        },
        "id": "VUYwbHO6MnoJ",
        "outputId": "3c4bc6ef-a130-427b-98a3-9ce819b57de5"
      },
      "source": [
        "len(class_names)"
      ],
      "execution_count": 5,
      "outputs": [
        {
          "output_type": "execute_result",
          "data": {
            "text/plain": [
              "10"
            ]
          },
          "metadata": {
            "tags": []
          },
          "execution_count": 5
        }
      ]
    },
    {
      "cell_type": "code",
      "metadata": {
        "colab": {
          "base_uri": "https://localhost:8080/",
          "height": 298
        },
        "id": "HpzR_eDENDnY",
        "outputId": "50bb1cf2-0efe-4d9a-f204-026528d02a81"
      },
      "source": [
        "plt.imshow(train_data[17],cmap= plt.cm.binary)\n",
        "plt.title(class_names[train_labels[17]])"
      ],
      "execution_count": 6,
      "outputs": [
        {
          "output_type": "execute_result",
          "data": {
            "text/plain": [
              "Text(0.5, 1.0, 'Tshirt')"
            ]
          },
          "metadata": {
            "tags": []
          },
          "execution_count": 6
        },
        {
          "output_type": "display_data",
          "data": {
            "image/png": "[encoded data removed]",
            "text/plain": [
              "<Figure size 432x288 with 1 Axes>"
            ]
          },
          "metadata": {
            "tags": [],
            "needs_background": "light"
          }
        }
      ]
    },
    {
      "cell_type": "code",
      "metadata": {
        "colab": {
          "base_uri": "https://localhost:8080/",
          "height": 427
        },
        "id": "5pIIsbRfNSql",
        "outputId": "f010ee9b-9146-409a-8d3d-fac4f3e96e43"
      },
      "source": [
        "import random\n",
        "plt.figure(figsize = (7,7))\n",
        "for i in range(4):\n",
        "  ax = plt.subplot(2,2,i+1)\n",
        "  ran = random.choice(range(len(train_data)))\n",
        "  plt.imshow(train_data[ran], cmap=plt.cm.binary)\n",
        "  plt.title(class_names[train_labels[ran]])\n",
        "  plt.axis(False)"
      ],
      "execution_count": 7,
      "outputs": [
        {
          "output_type": "display_data",
          "data": {
            "image/png": "[encoded data removed]",
            "text/plain": [
              "<Figure size 504x504 with 4 Axes>"
            ]
          },
          "metadata": {
            "tags": [],
            "needs_background": "light"
          }
        }
      ]
    },
    {
      "cell_type": "code",
      "metadata": {
        "id": "QTfPLX9nQtXr"
      },
      "source": [
        ""
      ],
      "execution_count": 7,
      "outputs": []
    },
    {
      "cell_type": "code",
      "metadata": {
        "colab": {
          "base_uri": "https://localhost:8080/"
        },
        "id": "Dm-XEY52OFvc",
        "outputId": "4ef1208f-ac4d-4984-ef89-c2dc5f8351db"
      },
      "source": [
        "tf.random.set_seed(42)\n",
        "model = tf.keras.Sequential([\n",
        "                             tf.keras.layers.InputLayer(input_shape=(28,28,1,)),\n",
        "                             tf.keras.layers.Flatten(),\n",
        "                             tf.keras.layers.Dense(516, activation = 'relu'),\n",
        "                             tf.keras.layers.Dense(264, activation='relu'),\n",
        "                             tf.keras.layers.Dense(128, activation='relu'),\n",
        "                             tf.keras.layers.Dense(10, activation=tf.keras.activations.softmax)\n",
        "])\n",
        "\n",
        "model.compile(loss = tf.keras.losses.categorical_crossentropy,\n",
        "              optimizer = tf.keras.optimizers.Adam(0.001),\n",
        "              metrics = ['Accuracy'])\n",
        "history = model.fit(train_data,tf.one_hot(train_labels, depth =10), epochs=10, validation_data=(test_data, tf.one_hot(test_labels,depth=10)))"
      ],
      "execution_count": 8,
      "outputs": [
        {
          "output_type": "stream",
          "text": [
            "Epoch 1/10\n",
            "1875/1875 [==============================] - 15s 8ms/step - loss: 1.6282 - accuracy: 0.0343 - val_loss: 0.5170 - val_accuracy: 0.0127\n",
            "Epoch 2/10\n",
            "1875/1875 [==============================] - 14s 7ms/step - loss: 0.4695 - accuracy: 0.0076 - val_loss: 0.5018 - val_accuracy: 0.0064\n",
            "Epoch 3/10\n",
            "1875/1875 [==============================] - 14s 7ms/step - loss: 0.4266 - accuracy: 0.0097 - val_loss: 0.4886 - val_accuracy: 0.0059\n",
            "Epoch 4/10\n",
            "1875/1875 [==============================] - 14s 7ms/step - loss: 0.4076 - accuracy: 0.0108 - val_loss: 0.4712 - val_accuracy: 0.0079\n",
            "Epoch 5/10\n",
            "1875/1875 [==============================] - 14s 7ms/step - loss: 0.3816 - accuracy: 0.0189 - val_loss: 0.4096 - val_accuracy: 0.0160\n",
            "Epoch 6/10\n",
            "1875/1875 [==============================] - 14s 7ms/step - loss: 0.3645 - accuracy: 0.0273 - val_loss: 0.4491 - val_accuracy: 0.0299\n",
            "Epoch 7/10\n",
            "1875/1875 [==============================] - 14s 7ms/step - loss: 0.3513 - accuracy: 0.0387 - val_loss: 0.3897 - val_accuracy: 0.0765\n",
            "Epoch 8/10\n",
            "1875/1875 [==============================] - 14s 8ms/step - loss: 0.3389 - accuracy: 0.0512 - val_loss: 0.3837 - val_accuracy: 0.0368\n",
            "Epoch 9/10\n",
            "1875/1875 [==============================] - 14s 7ms/step - loss: 0.3297 - accuracy: 0.0594 - val_loss: 0.3965 - val_accuracy: 0.0658\n",
            "Epoch 10/10\n",
            "1875/1875 [==============================] - 14s 7ms/step - loss: 0.3200 - accuracy: 0.0761 - val_loss: 0.3958 - val_accuracy: 0.0884\n"
          ],
          "name": "stdout"
        }
      ]
    },
    {
      "cell_type": "code",
      "metadata": {
        "id": "7RJ49G8zQbUJ"
      },
      "source": [
        "train_data_norm = train_data/255.0\n",
        "test_data_norm = test_data/255.0"
      ],
      "execution_count": 9,
      "outputs": []
    },
    {
      "cell_type": "code",
      "metadata": {
        "colab": {
          "base_uri": "https://localhost:8080/"
        },
        "id": "joGhU0OfV9nj",
        "outputId": "5dbd8d59-1f0f-4280-e8ad-0f950744e1a4"
      },
      "source": [
        "tf.random.set_seed(42)\n",
        "model = tf.keras.Sequential([\n",
        "                             tf.keras.layers.Flatten(input_shape=(28,28)),\n",
        "                             tf.keras.layers.Dense(12, activation = 'relu'),\n",
        "                             tf.keras.layers.Dense(24, activation='relu'),\n",
        "                             tf.keras.layers.Dense(12, activation='relu'),\n",
        "                             tf.keras.layers.Dense(10, activation=tf.keras.activations.softmax)\n",
        "])\n",
        "\n",
        "model.compile(loss = tf.keras.losses.categorical_crossentropy,\n",
        "              optimizer = tf.keras.optimizers.Adam(),\n",
        "              metrics = ['Accuracy'])\n",
        "history_norm = model.fit(train_data_norm,tf.one_hot(train_labels, depth =10), epochs=10, validation_data=(test_data_norm, tf.one_hot(test_labels,depth=10)))"
      ],
      "execution_count": 11,
      "outputs": [
        {
          "output_type": "stream",
          "text": [
            "Epoch 1/10\n",
            "1875/1875 [==============================] - 4s 2ms/step - loss: 0.6921 - accuracy: 0.0000e+00 - val_loss: 0.5094 - val_accuracy: 2.0000e-05\n",
            "Epoch 2/10\n",
            "1875/1875 [==============================] - 3s 2ms/step - loss: 0.4724 - accuracy: 1.3333e-05 - val_loss: 0.5284 - val_accuracy: 1.2000e-04\n",
            "Epoch 3/10\n",
            "1875/1875 [==============================] - 3s 2ms/step - loss: 0.4295 - accuracy: 7.1667e-05 - val_loss: 0.4592 - val_accuracy: 1.0000e-05\n",
            "Epoch 4/10\n",
            "1875/1875 [==============================] - 3s 2ms/step - loss: 0.4039 - accuracy: 8.0000e-05 - val_loss: 0.4500 - val_accuracy: 1.6000e-04\n",
            "Epoch 5/10\n",
            "1875/1875 [==============================] - 3s 2ms/step - loss: 0.3869 - accuracy: 6.3333e-05 - val_loss: 0.4432 - val_accuracy: 2.0000e-05\n",
            "Epoch 6/10\n",
            "1875/1875 [==============================] - 3s 2ms/step - loss: 0.3737 - accuracy: 4.0000e-05 - val_loss: 0.4376 - val_accuracy: 3.0000e-05\n",
            "Epoch 7/10\n",
            "1875/1875 [==============================] - 3s 2ms/step - loss: 0.3638 - accuracy: 6.8333e-05 - val_loss: 0.4435 - val_accuracy: 3.0000e-05\n",
            "Epoch 8/10\n",
            "1875/1875 [==============================] - 3s 2ms/step - loss: 0.3563 - accuracy: 6.1667e-05 - val_loss: 0.4163 - val_accuracy: 8.0000e-05\n",
            "Epoch 9/10\n",
            "1875/1875 [==============================] - 3s 2ms/step - loss: 0.3484 - accuracy: 6.1667e-05 - val_loss: 0.4038 - val_accuracy: 1.8000e-04\n",
            "Epoch 10/10\n",
            "1875/1875 [==============================] - 3s 2ms/step - loss: 0.3452 - accuracy: 1.3333e-04 - val_loss: 0.4187 - val_accuracy: 4.0000e-05\n"
          ],
          "name": "stdout"
        }
      ]
    },
    {
      "cell_type": "code",
      "metadata": {
        "colab": {
          "base_uri": "https://localhost:8080/"
        },
        "id": "FQoUKOPHL889",
        "outputId": "d43f4d6b-ace9-47ad-e9f7-3098ca002b9d"
      },
      "source": [
        "tf.random.set_seed(42)\n",
        "\n",
        "model_1 =tf.keras.Sequential([\n",
        "                              tf.keras.layers.Flatten(input_shape=(28,28)),\n",
        "                              tf.keras.layers.Dense(4, activation='relu'),\n",
        "                              tf.keras.layers.Dense(4, activation='relu'),\n",
        "                              tf.keras.layers.Dense(10, activation='softmax')\n",
        "])\n",
        "model_1.compile(loss = tf.keras.losses.SparseCategoricalCrossentropy(),\n",
        "                optimizer = tf.keras.optimizers.Adam(),\n",
        "                metrics = ['accuracy'])\n",
        "\n",
        "lr_scheduler = tf.keras.callbacks.LearningRateScheduler(lambda epoch: 1e-3 * 10**(epoch/20))\n",
        "\n",
        "history_lr = model_1.fit(train_data_norm,train_labels,\n",
        "                         epochs=40,\n",
        "                         validation_data=(test_data_norm, test_labels),\n",
        "                         callbacks = [lr_scheduler])"
      ],
      "execution_count": 15,
      "outputs": [
        {
          "output_type": "stream",
          "text": [
            "Epoch 1/40\n",
            "1875/1875 [==============================] - 4s 2ms/step - loss: 1.0348 - accuracy: 0.6474 - val_loss: 0.6937 - val_accuracy: 0.7617\n",
            "Epoch 2/40\n",
            "1875/1875 [==============================] - 3s 2ms/step - loss: 0.6366 - accuracy: 0.7759 - val_loss: 0.6400 - val_accuracy: 0.7808\n",
            "Epoch 3/40\n",
            "1875/1875 [==============================] - 3s 2ms/step - loss: 0.5934 - accuracy: 0.7911 - val_loss: 0.6278 - val_accuracy: 0.7770\n",
            "Epoch 4/40\n",
            "1875/1875 [==============================] - 3s 2ms/step - loss: 0.5749 - accuracy: 0.7969 - val_loss: 0.6122 - val_accuracy: 0.7871\n",
            "Epoch 5/40\n",
            "1875/1875 [==============================] - 3s 2ms/step - loss: 0.5655 - accuracy: 0.7987 - val_loss: 0.6061 - val_accuracy: 0.7913\n",
            "Epoch 6/40\n",
            "1875/1875 [==============================] - 3s 2ms/step - loss: 0.5569 - accuracy: 0.8022 - val_loss: 0.5917 - val_accuracy: 0.7940\n",
            "Epoch 7/40\n",
            "1875/1875 [==============================] - 3s 2ms/step - loss: 0.5542 - accuracy: 0.8036 - val_loss: 0.5898 - val_accuracy: 0.7896\n",
            "Epoch 8/40\n",
            "1875/1875 [==============================] - 3s 2ms/step - loss: 0.5509 - accuracy: 0.8039 - val_loss: 0.5829 - val_accuracy: 0.7949\n",
            "Epoch 9/40\n",
            "1875/1875 [==============================] - 3s 2ms/step - loss: 0.5468 - accuracy: 0.8047 - val_loss: 0.6036 - val_accuracy: 0.7833\n",
            "Epoch 10/40\n",
            "1875/1875 [==============================] - 3s 2ms/step - loss: 0.5478 - accuracy: 0.8058 - val_loss: 0.5736 - val_accuracy: 0.7974\n",
            "Epoch 11/40\n",
            "1875/1875 [==============================] - 3s 2ms/step - loss: 0.5446 - accuracy: 0.8059 - val_loss: 0.5672 - val_accuracy: 0.8016\n",
            "Epoch 12/40\n",
            "1875/1875 [==============================] - 3s 2ms/step - loss: 0.5432 - accuracy: 0.8067 - val_loss: 0.5773 - val_accuracy: 0.7950\n",
            "Epoch 13/40\n",
            "1875/1875 [==============================] - 3s 2ms/step - loss: 0.5425 - accuracy: 0.8056 - val_loss: 0.5775 - val_accuracy: 0.7992\n",
            "Epoch 14/40\n",
            "1875/1875 [==============================] - 3s 2ms/step - loss: 0.5407 - accuracy: 0.8078 - val_loss: 0.5616 - val_accuracy: 0.8075\n",
            "Epoch 15/40\n",
            "1875/1875 [==============================] - 3s 2ms/step - loss: 0.5408 - accuracy: 0.8052 - val_loss: 0.5773 - val_accuracy: 0.8039\n",
            "Epoch 16/40\n",
            "1875/1875 [==============================] - 3s 2ms/step - loss: 0.5437 - accuracy: 0.8058 - val_loss: 0.5682 - val_accuracy: 0.8015\n",
            "Epoch 17/40\n",
            "1875/1875 [==============================] - 3s 2ms/step - loss: 0.5419 - accuracy: 0.8075 - val_loss: 0.5995 - val_accuracy: 0.7964\n",
            "Epoch 18/40\n",
            "1875/1875 [==============================] - 3s 2ms/step - loss: 0.5488 - accuracy: 0.8058 - val_loss: 0.5544 - val_accuracy: 0.8087\n",
            "Epoch 19/40\n",
            "1875/1875 [==============================] - 3s 2ms/step - loss: 0.5506 - accuracy: 0.8042 - val_loss: 0.6068 - val_accuracy: 0.7864\n",
            "Epoch 20/40\n",
            "1875/1875 [==============================] - 3s 2ms/step - loss: 0.5537 - accuracy: 0.8030 - val_loss: 0.5597 - val_accuracy: 0.8076\n",
            "Epoch 21/40\n",
            "1875/1875 [==============================] - 3s 2ms/step - loss: 0.5572 - accuracy: 0.8036 - val_loss: 0.5998 - val_accuracy: 0.7934\n",
            "Epoch 22/40\n",
            "1875/1875 [==============================] - 3s 2ms/step - loss: 0.5615 - accuracy: 0.8013 - val_loss: 0.5756 - val_accuracy: 0.8034\n",
            "Epoch 23/40\n",
            "1875/1875 [==============================] - 3s 2ms/step - loss: 0.5655 - accuracy: 0.8017 - val_loss: 0.6386 - val_accuracy: 0.7668\n",
            "Epoch 24/40\n",
            "1875/1875 [==============================] - 3s 2ms/step - loss: 0.5819 - accuracy: 0.7963 - val_loss: 0.6356 - val_accuracy: 0.7869\n",
            "Epoch 25/40\n",
            "1875/1875 [==============================] - 3s 2ms/step - loss: 0.5810 - accuracy: 0.7977 - val_loss: 0.6481 - val_accuracy: 0.7865\n",
            "Epoch 26/40\n",
            "1875/1875 [==============================] - 3s 2ms/step - loss: 0.5960 - accuracy: 0.7901 - val_loss: 0.6997 - val_accuracy: 0.7802\n",
            "Epoch 27/40\n",
            "1875/1875 [==============================] - 3s 2ms/step - loss: 0.6101 - accuracy: 0.7870 - val_loss: 0.6124 - val_accuracy: 0.7917\n",
            "Epoch 28/40\n",
            "1875/1875 [==============================] - 3s 2ms/step - loss: 0.6178 - accuracy: 0.7846 - val_loss: 0.6137 - val_accuracy: 0.7962\n",
            "Epoch 29/40\n",
            "1875/1875 [==============================] - 3s 2ms/step - loss: 0.6357 - accuracy: 0.7771 - val_loss: 0.6655 - val_accuracy: 0.7621\n",
            "Epoch 30/40\n",
            "1875/1875 [==============================] - 3s 2ms/step - loss: 0.6671 - accuracy: 0.7678 - val_loss: 0.7597 - val_accuracy: 0.7194\n",
            "Epoch 31/40\n",
            "1875/1875 [==============================] - 3s 2ms/step - loss: 0.6836 - accuracy: 0.7585 - val_loss: 0.6958 - val_accuracy: 0.7342\n",
            "Epoch 32/40\n",
            "1875/1875 [==============================] - 3s 2ms/step - loss: 0.7062 - accuracy: 0.7553 - val_loss: 0.7015 - val_accuracy: 0.7732\n",
            "Epoch 33/40\n",
            "1875/1875 [==============================] - 3s 2ms/step - loss: 0.7383 - accuracy: 0.7500 - val_loss: 0.7146 - val_accuracy: 0.7706\n",
            "Epoch 34/40\n",
            "1875/1875 [==============================] - 3s 2ms/step - loss: 0.8033 - accuracy: 0.7300 - val_loss: 0.8987 - val_accuracy: 0.6848\n",
            "Epoch 35/40\n",
            "1875/1875 [==============================] - 3s 2ms/step - loss: 0.8429 - accuracy: 0.7110 - val_loss: 0.8750 - val_accuracy: 0.7053\n",
            "Epoch 36/40\n",
            "1875/1875 [==============================] - 3s 2ms/step - loss: 0.8651 - accuracy: 0.7033 - val_loss: 0.8176 - val_accuracy: 0.6989\n",
            "Epoch 37/40\n",
            "1875/1875 [==============================] - 3s 2ms/step - loss: 0.9203 - accuracy: 0.6837 - val_loss: 0.7876 - val_accuracy: 0.7333\n",
            "Epoch 38/40\n",
            "1875/1875 [==============================] - 3s 2ms/step - loss: 1.2374 - accuracy: 0.5191 - val_loss: 1.3699 - val_accuracy: 0.4902\n",
            "Epoch 39/40\n",
            "1875/1875 [==============================] - 3s 2ms/step - loss: 1.1828 - accuracy: 0.5311 - val_loss: 1.1010 - val_accuracy: 0.5819\n",
            "Epoch 40/40\n",
            "1875/1875 [==============================] - 3s 2ms/step - loss: 1.6640 - accuracy: 0.3303 - val_loss: 1.8528 - val_accuracy: 0.2779\n"
          ],
          "name": "stdout"
        }
      ]
    },
    {
      "cell_type": "code",
      "metadata": {
        "id": "8zF266sSWGWD",
        "colab": {
          "base_uri": "https://localhost:8080/",
          "height": 300
        },
        "outputId": "78218b1f-c3fe-40d7-bbfa-8ba4bc317f9d"
      },
      "source": [
        "import numpy as np\n",
        "import matplotlib.pyplot as plt\n",
        "lrs = 1e-3 * (10**(tf.range(40)/20))\n",
        "plt.semilogx(lrs,history_lr.history['loss'])\n",
        "plt.xlabel(\"LR\")\n",
        "plt.ylabel(\"Loss\")"
      ],
      "execution_count": 17,
      "outputs": [
        {
          "output_type": "execute_result",
          "data": {
            "text/plain": [
              "Text(0, 0.5, 'Loss')"
            ]
          },
          "metadata": {
            "tags": []
          },
          "execution_count": 17
        },
        {
          "output_type": "display_data",
          "data": {
            "image/png": "[encoded data removed]",
            "text/plain": [
              "<Figure size 432x288 with 1 Axes>"
            ]
          },
          "metadata": {
            "tags": [],
            "needs_background": "light"
          }
        }
      ]
    },
    {
      "cell_type": "code",
      "metadata": {
        "colab": {
          "base_uri": "https://localhost:8080/"
        },
        "id": "K2MR1MmAOebp",
        "outputId": "a57f6a47-a62e-4275-94f1-7eccd405f456"
      },
      "source": [
        "# LEts refit the model with ideal LR\n",
        "tf.random.set_seed(42)\n",
        "\n",
        "model_final = tf.keras.Sequential([\n",
        "                                   tf.keras.layers.Flatten(input_shape=(28,28)),\n",
        "                                   tf.keras.layers.Dense(4, activation='relu'),\n",
        "                                   tf.keras.layers.Dense(4, activation='relu'),\n",
        "                                   tf.keras.layers.Dense(10, activation='softmax')\n",
        "])\n",
        "\n",
        "model_final.compile(loss = tf.keras.losses.SparseCategoricalCrossentropy(),\n",
        "                    optimizer= tf.keras.optimizers.Adam(0.001),\n",
        "                    metrics = ['accuracy'])\n",
        "\n",
        "history_final = model_final.fit(train_data_norm,\n",
        "                                train_labels,\n",
        "                                epochs=40,\n",
        "                                validation_data=(test_data_norm, test_labels),\n",
        "                                verbose =1)"
      ],
      "execution_count": 27,
      "outputs": [
        {
          "output_type": "stream",
          "text": [
            "Epoch 1/40\n",
            "1875/1875 [==============================] - 4s 2ms/step - loss: 1.0348 - accuracy: 0.6474 - val_loss: 0.6937 - val_accuracy: 0.7617\n",
            "Epoch 2/40\n",
            "1875/1875 [==============================] - 3s 2ms/step - loss: 0.6376 - accuracy: 0.7757 - val_loss: 0.6400 - val_accuracy: 0.7820\n",
            "Epoch 3/40\n",
            "1875/1875 [==============================] - 3s 2ms/step - loss: 0.5942 - accuracy: 0.7914 - val_loss: 0.6247 - val_accuracy: 0.7783\n",
            "Epoch 4/40\n",
            "1875/1875 [==============================] - 3s 2ms/step - loss: 0.5750 - accuracy: 0.7979 - val_loss: 0.6078 - val_accuracy: 0.7881\n",
            "Epoch 5/40\n",
            "1875/1875 [==============================] - 3s 2ms/step - loss: 0.5641 - accuracy: 0.8006 - val_loss: 0.6169 - val_accuracy: 0.7881\n",
            "Epoch 6/40\n",
            "1875/1875 [==============================] - 3s 2ms/step - loss: 0.5544 - accuracy: 0.8043 - val_loss: 0.5855 - val_accuracy: 0.7951\n",
            "Epoch 7/40\n",
            "1875/1875 [==============================] - 3s 2ms/step - loss: 0.5488 - accuracy: 0.8063 - val_loss: 0.6097 - val_accuracy: 0.7836\n",
            "Epoch 8/40\n",
            "1875/1875 [==============================] - 3s 2ms/step - loss: 0.5428 - accuracy: 0.8077 - val_loss: 0.5787 - val_accuracy: 0.7971\n",
            "Epoch 9/40\n",
            "1875/1875 [==============================] - 3s 2ms/step - loss: 0.5373 - accuracy: 0.8097 - val_loss: 0.5698 - val_accuracy: 0.7977\n",
            "Epoch 10/40\n",
            "1875/1875 [==============================] - 3s 2ms/step - loss: 0.5360 - accuracy: 0.8124 - val_loss: 0.5658 - val_accuracy: 0.8014\n",
            "Epoch 11/40\n",
            "1875/1875 [==============================] - 3s 2ms/step - loss: 0.5311 - accuracy: 0.8130 - val_loss: 0.5714 - val_accuracy: 0.8002\n",
            "Epoch 12/40\n",
            "1875/1875 [==============================] - 3s 2ms/step - loss: 0.5284 - accuracy: 0.8132 - val_loss: 0.5626 - val_accuracy: 0.8027\n",
            "Epoch 13/40\n",
            "1875/1875 [==============================] - 3s 2ms/step - loss: 0.5271 - accuracy: 0.8138 - val_loss: 0.5619 - val_accuracy: 0.8041\n",
            "Epoch 14/40\n",
            "1875/1875 [==============================] - 3s 2ms/step - loss: 0.5249 - accuracy: 0.8143 - val_loss: 0.5718 - val_accuracy: 0.7991\n",
            "Epoch 15/40\n",
            "1875/1875 [==============================] - 3s 2ms/step - loss: 0.5231 - accuracy: 0.8148 - val_loss: 0.5706 - val_accuracy: 0.8024\n",
            "Epoch 16/40\n",
            "1875/1875 [==============================] - 3s 2ms/step - loss: 0.5203 - accuracy: 0.8162 - val_loss: 0.5731 - val_accuracy: 0.8023\n",
            "Epoch 17/40\n",
            "1875/1875 [==============================] - 3s 2ms/step - loss: 0.5191 - accuracy: 0.8176 - val_loss: 0.5594 - val_accuracy: 0.8030\n",
            "Epoch 18/40\n",
            "1875/1875 [==============================] - 3s 2ms/step - loss: 0.5176 - accuracy: 0.8157 - val_loss: 0.5582 - val_accuracy: 0.8053\n",
            "Epoch 19/40\n",
            "1875/1875 [==============================] - 3s 2ms/step - loss: 0.5156 - accuracy: 0.8169 - val_loss: 0.5644 - val_accuracy: 0.8007\n",
            "Epoch 20/40\n",
            "1875/1875 [==============================] - 3s 2ms/step - loss: 0.5146 - accuracy: 0.8177 - val_loss: 0.5660 - val_accuracy: 0.8075\n",
            "Epoch 21/40\n",
            "1875/1875 [==============================] - 3s 2ms/step - loss: 0.5125 - accuracy: 0.8197 - val_loss: 0.5684 - val_accuracy: 0.8004\n",
            "Epoch 22/40\n",
            "1875/1875 [==============================] - 3s 2ms/step - loss: 0.5112 - accuracy: 0.8180 - val_loss: 0.5666 - val_accuracy: 0.8029\n",
            "Epoch 23/40\n",
            "1875/1875 [==============================] - 3s 2ms/step - loss: 0.5105 - accuracy: 0.8195 - val_loss: 0.5570 - val_accuracy: 0.8068\n",
            "Epoch 24/40\n",
            "1875/1875 [==============================] - 3s 2ms/step - loss: 0.5101 - accuracy: 0.8177 - val_loss: 0.5565 - val_accuracy: 0.8076\n",
            "Epoch 25/40\n",
            "1875/1875 [==============================] - 3s 2ms/step - loss: 0.5075 - accuracy: 0.8196 - val_loss: 0.5572 - val_accuracy: 0.8048\n",
            "Epoch 26/40\n",
            "1875/1875 [==============================] - 3s 2ms/step - loss: 0.5081 - accuracy: 0.8192 - val_loss: 0.5659 - val_accuracy: 0.8065\n",
            "Epoch 27/40\n",
            "1875/1875 [==============================] - 3s 2ms/step - loss: 0.5058 - accuracy: 0.8206 - val_loss: 0.5587 - val_accuracy: 0.8045\n",
            "Epoch 28/40\n",
            "1875/1875 [==============================] - 3s 2ms/step - loss: 0.5052 - accuracy: 0.8206 - val_loss: 0.5561 - val_accuracy: 0.8077\n",
            "Epoch 29/40\n",
            "1875/1875 [==============================] - 3s 2ms/step - loss: 0.5050 - accuracy: 0.8205 - val_loss: 0.5664 - val_accuracy: 0.8054\n",
            "Epoch 30/40\n",
            "1875/1875 [==============================] - 3s 2ms/step - loss: 0.5024 - accuracy: 0.8213 - val_loss: 0.5575 - val_accuracy: 0.8051\n",
            "Epoch 31/40\n",
            "1875/1875 [==============================] - 3s 2ms/step - loss: 0.5029 - accuracy: 0.8215 - val_loss: 0.5627 - val_accuracy: 0.8033\n",
            "Epoch 32/40\n",
            "1875/1875 [==============================] - 3s 2ms/step - loss: 0.5012 - accuracy: 0.8204 - val_loss: 0.5574 - val_accuracy: 0.8097\n",
            "Epoch 33/40\n",
            "1875/1875 [==============================] - 3s 2ms/step - loss: 0.4998 - accuracy: 0.8219 - val_loss: 0.5774 - val_accuracy: 0.8007\n",
            "Epoch 34/40\n",
            "1875/1875 [==============================] - 3s 2ms/step - loss: 0.4996 - accuracy: 0.8222 - val_loss: 0.5596 - val_accuracy: 0.8073\n",
            "Epoch 35/40\n",
            "1875/1875 [==============================] - 3s 2ms/step - loss: 0.4980 - accuracy: 0.8237 - val_loss: 0.5507 - val_accuracy: 0.8095\n",
            "Epoch 36/40\n",
            "1875/1875 [==============================] - 3s 2ms/step - loss: 0.4959 - accuracy: 0.8245 - val_loss: 0.5515 - val_accuracy: 0.8066\n",
            "Epoch 37/40\n",
            "1875/1875 [==============================] - 3s 2ms/step - loss: 0.4961 - accuracy: 0.8236 - val_loss: 0.5614 - val_accuracy: 0.8000\n",
            "Epoch 38/40\n",
            "1875/1875 [==============================] - 3s 2ms/step - loss: 0.4948 - accuracy: 0.8248 - val_loss: 0.5453 - val_accuracy: 0.8111\n",
            "Epoch 39/40\n",
            "1875/1875 [==============================] - 3s 2ms/step - loss: 0.4942 - accuracy: 0.8242 - val_loss: 0.5580 - val_accuracy: 0.8044\n",
            "Epoch 40/40\n",
            "1875/1875 [==============================] - 3s 2ms/step - loss: 0.4926 - accuracy: 0.8248 - val_loss: 0.5527 - val_accuracy: 0.8057\n"
          ],
          "name": "stdout"
        }
      ]
    },
    {
      "cell_type": "code",
      "metadata": {
        "id": "lUpPaNwFPg9V"
      },
      "source": [
        "### Evaluating the model"
      ],
      "execution_count": 21,
      "outputs": []
    },
    {
      "cell_type": "code",
      "metadata": {
        "id": "FR_WawHgPn5M"
      },
      "source": [
        "from sklearn.metrics import confusion_matrix"
      ],
      "execution_count": 24,
      "outputs": []
    },
    {
      "cell_type": "code",
      "metadata": {
        "id": "htIuQS90RHgg"
      },
      "source": [
        " y_pred= model_final.predict(test_data_norm)"
      ],
      "execution_count": 32,
      "outputs": []
    },
    {
      "cell_type": "code",
      "metadata": {
        "colab": {
          "base_uri": "https://localhost:8080/"
        },
        "id": "HsZrDsMUQ7yx",
        "outputId": "0905b2f4-2a3e-4af6-be47-e2bd723b757b"
      },
      "source": [
        "y_pred.shape"
      ],
      "execution_count": 33,
      "outputs": [
        {
          "output_type": "execute_result",
          "data": {
            "text/plain": [
              "(10000, 10)"
            ]
          },
          "metadata": {
            "tags": []
          },
          "execution_count": 33
        }
      ]
    },
    {
      "cell_type": "code",
      "metadata": {
        "id": "LOEzs4X8SXML"
      },
      "source": [
        "y_pred_lab = tf.argmax(y_pred,axis = 1)"
      ],
      "execution_count": 37,
      "outputs": []
    },
    {
      "cell_type": "code",
      "metadata": {
        "colab": {
          "base_uri": "https://localhost:8080/"
        },
        "id": "ncsFpTB-Sb67",
        "outputId": "b92b140f-00f1-4cf2-85fd-1a6734ed7bbf"
      },
      "source": [
        "confusion_matrix(y_true=test_labels, y_pred=y_pred_lab)"
      ],
      "execution_count": 38,
      "outputs": [
        {
          "output_type": "execute_result",
          "data": {
            "text/plain": [
              "array([[833,  13,  11,  54,   3,   2,  73,   0,  11,   0],\n",
              "       [  6, 950,   1,  26,   5,   1,  11,   0,   0,   0],\n",
              "       [ 42,   1, 593,   8, 164,   1, 178,   0,  13,   0],\n",
              "       [ 74,  27,  10, 787,  35,   1,  56,   2,   8,   0],\n",
              "       [  2,   1,  83,  29, 728,   0, 150,   0,   7,   0],\n",
              "       [  0,   1,   0,   0,   0, 941,   0,  34,   3,  21],\n",
              "       [217,   9, 117,  34,  98,   3, 505,   0,  17,   0],\n",
              "       [  0,   0,   0,   0,   0,  70,   0, 905,   0,  25],\n",
              "       [ 16,   1,  32,  19,   5,   9,   8,   5, 905,   0],\n",
              "       [  0,   0,   0,   0,   1,  36,   0,  48,   5, 910]])"
            ]
          },
          "metadata": {
            "tags": []
          },
          "execution_count": 38
        }
      ]
    },
    {
      "cell_type": "code",
      "metadata": {
        "id": "7QWXZbFMTD7D"
      },
      "source": [
        "import random\n",
        "\n",
        "def plot_random_image(model, images, true_label, classes):\n",
        "  '''\n",
        "  Picks a random image , plots it and labels it with a prediction and truth label\n",
        "  '''\n",
        "  i = random.randint(0, len(images))\n",
        "  target_image = images[i]\n",
        "  pred_probs = model.predict(target_image.reshape(1,28,28))\n",
        "  pred_labels = classes[pred_probs.argmax()]\n",
        "  true_label = classes[true_label[i]]\n",
        "\n",
        "  plt.imshow(target_image, cmap=plt.cm.binary)\n",
        "\n",
        "  if pred_labels==true_label:\n",
        "    color = \"green\"\n",
        "  else:\n",
        "    color = \"red\"\n",
        "\n",
        "  plt.xlabel(\"Pred: {} {:2.0f}% (True: {})\". format(pred_labels,\n",
        "                                                   100*tf.reduce_max(pred_probs),\n",
        "                                                   true_label),\n",
        "             color=color)\n",
        "  "
      ],
      "execution_count": 51,
      "outputs": []
    },
    {
      "cell_type": "code",
      "metadata": {
        "colab": {
          "base_uri": "https://localhost:8080/",
          "height": 279
        },
        "id": "TaTkGogwVKyg",
        "outputId": "c7bc2813-f35c-4da1-9afa-7d8417bb1781"
      },
      "source": [
        "plot_random_image(model=model_final,\n",
        "                  images= test_data_norm,\n",
        "                  true_label=test_labels,\n",
        "                  classes=class_names)"
      ],
      "execution_count": 52,
      "outputs": [
        {
          "output_type": "display_data",
          "data": {
            "image/png": "[encoded data removed]",
            "text/plain": [
              "<Figure size 432x288 with 1 Axes>"
            ]
          },
          "metadata": {
            "tags": [],
            "needs_background": "light"
          }
        }
      ]
    },
    {
      "cell_type": "code",
      "metadata": {
        "id": "C4PnMOkZVV_W"
      },
      "source": [
        "## What patterns is our model learning?"
      ],
      "execution_count": 53,
      "outputs": []
    },
    {
      "cell_type": "code",
      "metadata": {
        "colab": {
          "base_uri": "https://localhost:8080/"
        },
        "id": "qe0JbxxVWLqo",
        "outputId": "267d2f63-890e-485a-b580-c8924df5a848"
      },
      "source": [
        "model_final.layers"
      ],
      "execution_count": 54,
      "outputs": [
        {
          "output_type": "execute_result",
          "data": {
            "text/plain": [
              "[<tensorflow.python.keras.layers.core.Flatten at 0x7ff75e29bd50>,\n",
              " <tensorflow.python.keras.layers.core.Dense at 0x7ff75e28c210>,\n",
              " <tensorflow.python.keras.layers.core.Dense at 0x7ff75e28c510>,\n",
              " <tensorflow.python.keras.layers.core.Dense at 0x7ff75e28c7d0>]"
            ]
          },
          "metadata": {
            "tags": []
          },
          "execution_count": 54
        }
      ]
    },
    {
      "cell_type": "code",
      "metadata": {
        "colab": {
          "base_uri": "https://localhost:8080/"
        },
        "id": "enHBR7n3WNXF",
        "outputId": "04e1df44-0265-41f4-c7dd-46dae423a067"
      },
      "source": [
        "model_final.layers[1]"
      ],
      "execution_count": 55,
      "outputs": [
        {
          "output_type": "execute_result",
          "data": {
            "text/plain": [
              "<tensorflow.python.keras.layers.core.Dense at 0x7ff75e28c210>"
            ]
          },
          "metadata": {
            "tags": []
          },
          "execution_count": 55
        }
      ]
    },
    {
      "cell_type": "code",
      "metadata": {
        "colab": {
          "base_uri": "https://localhost:8080/"
        },
        "id": "QGc1zvXKWQV7",
        "outputId": "420418e1-1765-4b9b-bd49-46a45610abc3"
      },
      "source": [
        "# Getting patterns of a lyer in our model\n",
        "wts,bias = model_final.layers[1].get_weights()\n",
        "\n",
        "wts, wts.shape"
      ],
      "execution_count": 56,
      "outputs": [
        {
          "output_type": "execute_result",
          "data": {
            "text/plain": [
              "(array([[ 1.5936174 , -0.76976854, -1.5807068 , -1.9991511 ],\n",
              "        [ 0.45609504, -1.2976133 , -0.7302893 , -0.16224061],\n",
              "        [ 1.348038  , -0.19881976, -1.9888442 , -1.2137522 ],\n",
              "        ...,\n",
              "        [-0.22335076,  0.59402996, -0.272626  ,  0.4604269 ],\n",
              "        [-0.21883878,  1.1971763 ,  0.5428994 , -0.5791032 ],\n",
              "        [ 0.37653425, -0.19791599,  0.02285609,  0.24255323]],\n",
              "       dtype=float32), (784, 4))"
            ]
          },
          "metadata": {
            "tags": []
          },
          "execution_count": 56
        }
      ]
    },
    {
      "cell_type": "code",
      "metadata": {
        "id": "Ozi_KVpZWaSJ"
      },
      "source": [
        ""
      ],
      "execution_count": null,
      "outputs": []
    }
  ]
}