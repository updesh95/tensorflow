{
  "nbformat": 4,
  "nbformat_minor": 0,
  "metadata": {
    "colab": {
      "name": "Medical_data_analysis_nn_regression.ipynb",
      "provenance": []
    },
    "kernelspec": {
      "name": "python3",
      "display_name": "Python 3"
    },
    "language_info": {
      "name": "python"
    }
  },
  "cells": [
    {
      "cell_type": "code",
      "metadata": {
        "id": "Lw-Sr88-Lx8Y"
      },
      "source": [
        "import tensorflow as tf\n",
        "import pandas as pd\n",
        "import matplotlib.pyplot as plt"
      ],
      "execution_count": 28,
      "outputs": []
    },
    {
      "cell_type": "code",
      "metadata": {
        "id": "QTl9iWbpL3rq"
      },
      "source": [
        "ins = pd.read_csv(\"insurance.csv\")"
      ],
      "execution_count": 29,
      "outputs": []
    },
    {
      "cell_type": "code",
      "metadata": {
        "colab": {
          "base_uri": "https://localhost:8080/",
          "height": 204
        },
        "id": "yv7D60XLL7N6",
        "outputId": "c56a61d9-a496-4496-8339-16bffc9f3b91"
      },
      "source": [
        "ins.head()"
      ],
      "execution_count": 30,
      "outputs": [
        {
          "output_type": "execute_result",
          "data": {
            "text/html": [
              "<div>\n",
              "<style scoped>\n",
              "    .dataframe tbody tr th:only-of-type {\n",
              "        vertical-align: middle;\n",
              "    }\n",
              "\n",
              "    .dataframe tbody tr th {\n",
              "        vertical-align: top;\n",
              "    }\n",
              "\n",
              "    .dataframe thead th {\n",
              "        text-align: right;\n",
              "    }\n",
              "</style>\n",
              "<table border=\"1\" class=\"dataframe\">\n",
              "  <thead>\n",
              "    <tr style=\"text-align: right;\">\n",
              "      <th></th>\n",
              "      <th>age</th>\n",
              "      <th>sex</th>\n",
              "      <th>bmi</th>\n",
              "      <th>children</th>\n",
              "      <th>smoker</th>\n",
              "      <th>region</th>\n",
              "      <th>charges</th>\n",
              "    </tr>\n",
              "  </thead>\n",
              "  <tbody>\n",
              "    <tr>\n",
              "      <th>0</th>\n",
              "      <td>19</td>\n",
              "      <td>female</td>\n",
              "      <td>27.900</td>\n",
              "      <td>0</td>\n",
              "      <td>yes</td>\n",
              "      <td>southwest</td>\n",
              "      <td>16884.92400</td>\n",
              "    </tr>\n",
              "    <tr>\n",
              "      <th>1</th>\n",
              "      <td>18</td>\n",
              "      <td>male</td>\n",
              "      <td>33.770</td>\n",
              "      <td>1</td>\n",
              "      <td>no</td>\n",
              "      <td>southeast</td>\n",
              "      <td>1725.55230</td>\n",
              "    </tr>\n",
              "    <tr>\n",
              "      <th>2</th>\n",
              "      <td>28</td>\n",
              "      <td>male</td>\n",
              "      <td>33.000</td>\n",
              "      <td>3</td>\n",
              "      <td>no</td>\n",
              "      <td>southeast</td>\n",
              "      <td>4449.46200</td>\n",
              "    </tr>\n",
              "    <tr>\n",
              "      <th>3</th>\n",
              "      <td>33</td>\n",
              "      <td>male</td>\n",
              "      <td>22.705</td>\n",
              "      <td>0</td>\n",
              "      <td>no</td>\n",
              "      <td>northwest</td>\n",
              "      <td>21984.47061</td>\n",
              "    </tr>\n",
              "    <tr>\n",
              "      <th>4</th>\n",
              "      <td>32</td>\n",
              "      <td>male</td>\n",
              "      <td>28.880</td>\n",
              "      <td>0</td>\n",
              "      <td>no</td>\n",
              "      <td>northwest</td>\n",
              "      <td>3866.85520</td>\n",
              "    </tr>\n",
              "  </tbody>\n",
              "</table>\n",
              "</div>"
            ],
            "text/plain": [
              "   age     sex     bmi  children smoker     region      charges\n",
              "0   19  female  27.900         0    yes  southwest  16884.92400\n",
              "1   18    male  33.770         1     no  southeast   1725.55230\n",
              "2   28    male  33.000         3     no  southeast   4449.46200\n",
              "3   33    male  22.705         0     no  northwest  21984.47061\n",
              "4   32    male  28.880         0     no  northwest   3866.85520"
            ]
          },
          "metadata": {
            "tags": []
          },
          "execution_count": 30
        }
      ]
    },
    {
      "cell_type": "code",
      "metadata": {
        "colab": {
          "base_uri": "https://localhost:8080/"
        },
        "id": "Gon7TPQBL9hq",
        "outputId": "5623187f-7d7a-4522-b6f9-be1a3ac2a4c0"
      },
      "source": [
        "ins.shape"
      ],
      "execution_count": 32,
      "outputs": [
        {
          "output_type": "execute_result",
          "data": {
            "text/plain": [
              "(1338, 7)"
            ]
          },
          "metadata": {
            "tags": []
          },
          "execution_count": 32
        }
      ]
    },
    {
      "cell_type": "code",
      "metadata": {
        "id": "S69Ugk9OL_wH"
      },
      "source": [
        "ins_hot_encode = pd.get_dummies(ins)"
      ],
      "execution_count": 34,
      "outputs": []
    },
    {
      "cell_type": "code",
      "metadata": {
        "id": "kgQweaXDNJMO"
      },
      "source": [
        "X = ins_hot_encode.drop(\"charges\", axis =1 )\n",
        "y = ins['charges']"
      ],
      "execution_count": 35,
      "outputs": []
    },
    {
      "cell_type": "code",
      "metadata": {
        "colab": {
          "base_uri": "https://localhost:8080/",
          "height": 224
        },
        "id": "LSrz4jA4OHdX",
        "outputId": "e5b09aec-0cbf-4add-8bc1-d42612e332cd"
      },
      "source": [
        "X.head()"
      ],
      "execution_count": 36,
      "outputs": [
        {
          "output_type": "execute_result",
          "data": {
            "text/html": [
              "<div>\n",
              "<style scoped>\n",
              "    .dataframe tbody tr th:only-of-type {\n",
              "        vertical-align: middle;\n",
              "    }\n",
              "\n",
              "    .dataframe tbody tr th {\n",
              "        vertical-align: top;\n",
              "    }\n",
              "\n",
              "    .dataframe thead th {\n",
              "        text-align: right;\n",
              "    }\n",
              "</style>\n",
              "<table border=\"1\" class=\"dataframe\">\n",
              "  <thead>\n",
              "    <tr style=\"text-align: right;\">\n",
              "      <th></th>\n",
              "      <th>age</th>\n",
              "      <th>bmi</th>\n",
              "      <th>children</th>\n",
              "      <th>sex_female</th>\n",
              "      <th>sex_male</th>\n",
              "      <th>smoker_no</th>\n",
              "      <th>smoker_yes</th>\n",
              "      <th>region_northeast</th>\n",
              "      <th>region_northwest</th>\n",
              "      <th>region_southeast</th>\n",
              "      <th>region_southwest</th>\n",
              "    </tr>\n",
              "  </thead>\n",
              "  <tbody>\n",
              "    <tr>\n",
              "      <th>0</th>\n",
              "      <td>19</td>\n",
              "      <td>27.900</td>\n",
              "      <td>0</td>\n",
              "      <td>1</td>\n",
              "      <td>0</td>\n",
              "      <td>0</td>\n",
              "      <td>1</td>\n",
              "      <td>0</td>\n",
              "      <td>0</td>\n",
              "      <td>0</td>\n",
              "      <td>1</td>\n",
              "    </tr>\n",
              "    <tr>\n",
              "      <th>1</th>\n",
              "      <td>18</td>\n",
              "      <td>33.770</td>\n",
              "      <td>1</td>\n",
              "      <td>0</td>\n",
              "      <td>1</td>\n",
              "      <td>1</td>\n",
              "      <td>0</td>\n",
              "      <td>0</td>\n",
              "      <td>0</td>\n",
              "      <td>1</td>\n",
              "      <td>0</td>\n",
              "    </tr>\n",
              "    <tr>\n",
              "      <th>2</th>\n",
              "      <td>28</td>\n",
              "      <td>33.000</td>\n",
              "      <td>3</td>\n",
              "      <td>0</td>\n",
              "      <td>1</td>\n",
              "      <td>1</td>\n",
              "      <td>0</td>\n",
              "      <td>0</td>\n",
              "      <td>0</td>\n",
              "      <td>1</td>\n",
              "      <td>0</td>\n",
              "    </tr>\n",
              "    <tr>\n",
              "      <th>3</th>\n",
              "      <td>33</td>\n",
              "      <td>22.705</td>\n",
              "      <td>0</td>\n",
              "      <td>0</td>\n",
              "      <td>1</td>\n",
              "      <td>1</td>\n",
              "      <td>0</td>\n",
              "      <td>0</td>\n",
              "      <td>1</td>\n",
              "      <td>0</td>\n",
              "      <td>0</td>\n",
              "    </tr>\n",
              "    <tr>\n",
              "      <th>4</th>\n",
              "      <td>32</td>\n",
              "      <td>28.880</td>\n",
              "      <td>0</td>\n",
              "      <td>0</td>\n",
              "      <td>1</td>\n",
              "      <td>1</td>\n",
              "      <td>0</td>\n",
              "      <td>0</td>\n",
              "      <td>1</td>\n",
              "      <td>0</td>\n",
              "      <td>0</td>\n",
              "    </tr>\n",
              "  </tbody>\n",
              "</table>\n",
              "</div>"
            ],
            "text/plain": [
              "   age     bmi  children  ...  region_northwest  region_southeast  region_southwest\n",
              "0   19  27.900         0  ...                 0                 0                 1\n",
              "1   18  33.770         1  ...                 0                 1                 0\n",
              "2   28  33.000         3  ...                 0                 1                 0\n",
              "3   33  22.705         0  ...                 1                 0                 0\n",
              "4   32  28.880         0  ...                 1                 0                 0\n",
              "\n",
              "[5 rows x 11 columns]"
            ]
          },
          "metadata": {
            "tags": []
          },
          "execution_count": 36
        }
      ]
    },
    {
      "cell_type": "code",
      "metadata": {
        "id": "emO1UMcrOcPc"
      },
      "source": [
        "from sklearn.model_selection import train_test_split"
      ],
      "execution_count": 40,
      "outputs": []
    },
    {
      "cell_type": "code",
      "metadata": {
        "id": "4xubkn5jOIwX"
      },
      "source": [
        "train_x, test_x, train_y, test_y = train_test_split(\n",
        "    X,y, test_size = 0.3, random_state=42\n",
        ")"
      ],
      "execution_count": 44,
      "outputs": []
    },
    {
      "cell_type": "code",
      "metadata": {
        "colab": {
          "base_uri": "https://localhost:8080/"
        },
        "id": "gOc_KAcUOuAc",
        "outputId": "1c59770d-94d3-4716-a5c7-1d4a333dc2ee"
      },
      "source": [
        "train_x.shape, train_y.shape"
      ],
      "execution_count": 45,
      "outputs": [
        {
          "output_type": "execute_result",
          "data": {
            "text/plain": [
              "((936, 11), (936,))"
            ]
          },
          "metadata": {
            "tags": []
          },
          "execution_count": 45
        }
      ]
    },
    {
      "cell_type": "code",
      "metadata": {
        "colab": {
          "base_uri": "https://localhost:8080/"
        },
        "id": "idv2kj-1O-HA",
        "outputId": "012353d1-d692-4bc7-9d7f-cf00268bf665"
      },
      "source": [
        "tf.random.set_seed(42)\n",
        "model = tf.keras.Sequential([\n",
        "                             tf.keras.layers.InputLayer(input_shape=(11,)),\n",
        "                             tf.keras.layers.Dense(20),\n",
        "                             tf.keras.layers.Dense(1)\n",
        "])\n",
        "\n",
        "model.compile(loss = tf.keras.losses.mae,\n",
        "              optimizer = tf.keras.optimizers.SGD(),\n",
        "              metrics = ['mae'])\n",
        "\n",
        "model.fit(train_x,train_y, epochs =100)"
      ],
      "execution_count": 48,
      "outputs": [
        {
          "output_type": "stream",
          "text": [
            "Epoch 1/100\n",
            "30/30 [==============================] - 0s 1ms/step - loss: 8903.7012 - mae: 8903.7012\n",
            "Epoch 2/100\n",
            "30/30 [==============================] - 0s 1ms/step - loss: 7734.2773 - mae: 7734.2773\n",
            "Epoch 3/100\n",
            "30/30 [==============================] - 0s 1ms/step - loss: 7819.4829 - mae: 7819.4829\n",
            "Epoch 4/100\n",
            "30/30 [==============================] - 0s 1ms/step - loss: 7772.1011 - mae: 7772.1011\n",
            "Epoch 5/100\n",
            "30/30 [==============================] - 0s 2ms/step - loss: 7871.6714 - mae: 7871.6714\n",
            "Epoch 6/100\n",
            "30/30 [==============================] - 0s 1ms/step - loss: 8047.4204 - mae: 8047.4204\n",
            "Epoch 7/100\n",
            "30/30 [==============================] - 0s 1ms/step - loss: 7444.1465 - mae: 7444.1465\n",
            "Epoch 8/100\n",
            "30/30 [==============================] - 0s 1ms/step - loss: 7655.3384 - mae: 7655.3384\n",
            "Epoch 9/100\n",
            "30/30 [==============================] - 0s 1ms/step - loss: 7880.9702 - mae: 7880.9702\n",
            "Epoch 10/100\n",
            "30/30 [==============================] - 0s 1ms/step - loss: 7787.2036 - mae: 7787.2036\n",
            "Epoch 11/100\n",
            "30/30 [==============================] - 0s 2ms/step - loss: 7854.5781 - mae: 7854.5781\n",
            "Epoch 12/100\n",
            "30/30 [==============================] - 0s 1ms/step - loss: 7610.2964 - mae: 7610.2964\n",
            "Epoch 13/100\n",
            "30/30 [==============================] - 0s 1ms/step - loss: 7721.2603 - mae: 7721.2603\n",
            "Epoch 14/100\n",
            "30/30 [==============================] - 0s 1ms/step - loss: 7601.5771 - mae: 7601.5771\n",
            "Epoch 15/100\n",
            "30/30 [==============================] - 0s 1ms/step - loss: 7815.8896 - mae: 7815.8896\n",
            "Epoch 16/100\n",
            "30/30 [==============================] - 0s 1ms/step - loss: 7753.1851 - mae: 7753.1851\n",
            "Epoch 17/100\n",
            "30/30 [==============================] - 0s 1ms/step - loss: 7865.7632 - mae: 7865.7632\n",
            "Epoch 18/100\n",
            "30/30 [==============================] - 0s 1ms/step - loss: 7927.7217 - mae: 7927.7217\n",
            "Epoch 19/100\n",
            "30/30 [==============================] - 0s 1ms/step - loss: 7788.5918 - mae: 7788.5918\n",
            "Epoch 20/100\n",
            "30/30 [==============================] - 0s 1ms/step - loss: 7963.8857 - mae: 7963.8857\n",
            "Epoch 21/100\n",
            "30/30 [==============================] - 0s 1ms/step - loss: 7705.7559 - mae: 7705.7559\n",
            "Epoch 22/100\n",
            "30/30 [==============================] - 0s 1ms/step - loss: 7678.4102 - mae: 7678.4102\n",
            "Epoch 23/100\n",
            "30/30 [==============================] - 0s 1ms/step - loss: 7498.2598 - mae: 7498.2598\n",
            "Epoch 24/100\n",
            "30/30 [==============================] - 0s 1ms/step - loss: 7652.6006 - mae: 7652.6006\n",
            "Epoch 25/100\n",
            "30/30 [==============================] - 0s 1ms/step - loss: 7388.2705 - mae: 7388.2705\n",
            "Epoch 26/100\n",
            "30/30 [==============================] - 0s 1ms/step - loss: 7391.2842 - mae: 7391.2842\n",
            "Epoch 27/100\n",
            "30/30 [==============================] - 0s 2ms/step - loss: 7671.2397 - mae: 7671.2397\n",
            "Epoch 28/100\n",
            "30/30 [==============================] - 0s 1ms/step - loss: 7577.8130 - mae: 7577.8130\n",
            "Epoch 29/100\n",
            "30/30 [==============================] - 0s 2ms/step - loss: 7373.9883 - mae: 7373.9883\n",
            "Epoch 30/100\n",
            "30/30 [==============================] - 0s 1ms/step - loss: 7776.9546 - mae: 7776.9546\n",
            "Epoch 31/100\n",
            "30/30 [==============================] - 0s 1ms/step - loss: 7768.1855 - mae: 7768.1855\n",
            "Epoch 32/100\n",
            "30/30 [==============================] - 0s 1ms/step - loss: 7485.9009 - mae: 7485.9009\n",
            "Epoch 33/100\n",
            "30/30 [==============================] - 0s 1ms/step - loss: 7731.2734 - mae: 7731.2734\n",
            "Epoch 34/100\n",
            "30/30 [==============================] - 0s 1ms/step - loss: 7434.1353 - mae: 7434.1353\n",
            "Epoch 35/100\n",
            "30/30 [==============================] - 0s 1ms/step - loss: 7487.4116 - mae: 7487.4116\n",
            "Epoch 36/100\n",
            "30/30 [==============================] - 0s 1ms/step - loss: 7463.2720 - mae: 7463.2720\n",
            "Epoch 37/100\n",
            "30/30 [==============================] - 0s 1ms/step - loss: 7457.1685 - mae: 7457.1685\n",
            "Epoch 38/100\n",
            "30/30 [==============================] - 0s 1ms/step - loss: 7465.4365 - mae: 7465.4365\n",
            "Epoch 39/100\n",
            "30/30 [==============================] - 0s 1ms/step - loss: 7600.0630 - mae: 7600.0630\n",
            "Epoch 40/100\n",
            "30/30 [==============================] - 0s 1ms/step - loss: 7491.4385 - mae: 7491.4385\n",
            "Epoch 41/100\n",
            "30/30 [==============================] - 0s 1ms/step - loss: 7611.5444 - mae: 7611.5444\n",
            "Epoch 42/100\n",
            "30/30 [==============================] - 0s 1ms/step - loss: 7700.8823 - mae: 7700.8823\n",
            "Epoch 43/100\n",
            "30/30 [==============================] - 0s 1ms/step - loss: 7573.3149 - mae: 7573.3149\n",
            "Epoch 44/100\n",
            "30/30 [==============================] - 0s 1ms/step - loss: 7519.1992 - mae: 7519.1992\n",
            "Epoch 45/100\n",
            "30/30 [==============================] - 0s 2ms/step - loss: 7442.0088 - mae: 7442.0088\n",
            "Epoch 46/100\n",
            "30/30 [==============================] - 0s 1ms/step - loss: 7059.8701 - mae: 7059.8701\n",
            "Epoch 47/100\n",
            "30/30 [==============================] - 0s 1ms/step - loss: 7547.9131 - mae: 7547.9131\n",
            "Epoch 48/100\n",
            "30/30 [==============================] - 0s 1ms/step - loss: 7534.4146 - mae: 7534.4146\n",
            "Epoch 49/100\n",
            "30/30 [==============================] - 0s 1ms/step - loss: 7448.4395 - mae: 7448.4395\n",
            "Epoch 50/100\n",
            "30/30 [==============================] - 0s 1ms/step - loss: 7421.0889 - mae: 7421.0889\n",
            "Epoch 51/100\n",
            "30/30 [==============================] - 0s 1ms/step - loss: 7581.2051 - mae: 7581.2051\n",
            "Epoch 52/100\n",
            "30/30 [==============================] - 0s 1ms/step - loss: 7590.1724 - mae: 7590.1724\n",
            "Epoch 53/100\n",
            "30/30 [==============================] - 0s 1ms/step - loss: 7592.9141 - mae: 7592.9141\n",
            "Epoch 54/100\n",
            "30/30 [==============================] - 0s 1ms/step - loss: 7702.7275 - mae: 7702.7275\n",
            "Epoch 55/100\n",
            "30/30 [==============================] - 0s 1ms/step - loss: 7316.3306 - mae: 7316.3306\n",
            "Epoch 56/100\n",
            "30/30 [==============================] - 0s 1ms/step - loss: 7613.3369 - mae: 7613.3369\n",
            "Epoch 57/100\n",
            "30/30 [==============================] - 0s 1ms/step - loss: 7497.5898 - mae: 7497.5898\n",
            "Epoch 58/100\n",
            "30/30 [==============================] - 0s 1ms/step - loss: 7959.2666 - mae: 7959.2666\n",
            "Epoch 59/100\n",
            "30/30 [==============================] - 0s 1ms/step - loss: 7406.0376 - mae: 7406.0376\n",
            "Epoch 60/100\n",
            "30/30 [==============================] - 0s 1ms/step - loss: 7324.1460 - mae: 7324.1460\n",
            "Epoch 61/100\n",
            "30/30 [==============================] - 0s 1ms/step - loss: 7756.2412 - mae: 7756.2412\n",
            "Epoch 62/100\n",
            "30/30 [==============================] - 0s 1ms/step - loss: 7508.3164 - mae: 7508.3164\n",
            "Epoch 63/100\n",
            "30/30 [==============================] - 0s 1ms/step - loss: 7538.7607 - mae: 7538.7607\n",
            "Epoch 64/100\n",
            "30/30 [==============================] - 0s 1ms/step - loss: 7310.9395 - mae: 7310.9395\n",
            "Epoch 65/100\n",
            "30/30 [==============================] - 0s 1ms/step - loss: 7375.9678 - mae: 7375.9678\n",
            "Epoch 66/100\n",
            "30/30 [==============================] - 0s 2ms/step - loss: 7806.5132 - mae: 7806.5132\n",
            "Epoch 67/100\n",
            "30/30 [==============================] - 0s 1ms/step - loss: 7575.1030 - mae: 7575.1030\n",
            "Epoch 68/100\n",
            "30/30 [==============================] - 0s 1ms/step - loss: 7199.4277 - mae: 7199.4277\n",
            "Epoch 69/100\n",
            "30/30 [==============================] - 0s 1ms/step - loss: 7376.2744 - mae: 7376.2744\n",
            "Epoch 70/100\n",
            "30/30 [==============================] - 0s 1ms/step - loss: 7397.9810 - mae: 7397.9810\n",
            "Epoch 71/100\n",
            "30/30 [==============================] - 0s 1ms/step - loss: 7460.0552 - mae: 7460.0552\n",
            "Epoch 72/100\n",
            "30/30 [==============================] - 0s 2ms/step - loss: 7135.3770 - mae: 7135.3770\n",
            "Epoch 73/100\n",
            "30/30 [==============================] - 0s 1ms/step - loss: 7403.6265 - mae: 7403.6265\n",
            "Epoch 74/100\n",
            "30/30 [==============================] - 0s 1ms/step - loss: 7426.4819 - mae: 7426.4819\n",
            "Epoch 75/100\n",
            "30/30 [==============================] - 0s 1ms/step - loss: 7654.5391 - mae: 7654.5391\n",
            "Epoch 76/100\n",
            "30/30 [==============================] - 0s 1ms/step - loss: 7484.2324 - mae: 7484.2324\n",
            "Epoch 77/100\n",
            "30/30 [==============================] - 0s 1ms/step - loss: 7270.4463 - mae: 7270.4463\n",
            "Epoch 78/100\n",
            "30/30 [==============================] - 0s 1ms/step - loss: 7324.0015 - mae: 7324.0015\n",
            "Epoch 79/100\n",
            "30/30 [==============================] - 0s 1ms/step - loss: 7588.0684 - mae: 7588.0684\n",
            "Epoch 80/100\n",
            "30/30 [==============================] - 0s 1ms/step - loss: 7688.1719 - mae: 7688.1719\n",
            "Epoch 81/100\n",
            "30/30 [==============================] - 0s 1ms/step - loss: 7487.2085 - mae: 7487.2085\n",
            "Epoch 82/100\n",
            "30/30 [==============================] - 0s 1ms/step - loss: 7433.6064 - mae: 7433.6064\n",
            "Epoch 83/100\n",
            "30/30 [==============================] - 0s 2ms/step - loss: 7163.2231 - mae: 7163.2231\n",
            "Epoch 84/100\n",
            "30/30 [==============================] - 0s 1ms/step - loss: 7319.1523 - mae: 7319.1523\n",
            "Epoch 85/100\n",
            "30/30 [==============================] - 0s 1ms/step - loss: 7249.0391 - mae: 7249.0391\n",
            "Epoch 86/100\n",
            "30/30 [==============================] - 0s 1ms/step - loss: 7512.8018 - mae: 7512.8018\n",
            "Epoch 87/100\n",
            "30/30 [==============================] - 0s 1ms/step - loss: 7159.1177 - mae: 7159.1177\n",
            "Epoch 88/100\n",
            "30/30 [==============================] - 0s 1ms/step - loss: 7543.7969 - mae: 7543.7969\n",
            "Epoch 89/100\n",
            "30/30 [==============================] - 0s 1ms/step - loss: 7360.0532 - mae: 7360.0532\n",
            "Epoch 90/100\n",
            "30/30 [==============================] - 0s 1ms/step - loss: 7388.9351 - mae: 7388.9351\n",
            "Epoch 91/100\n",
            "30/30 [==============================] - 0s 1ms/step - loss: 7309.4434 - mae: 7309.4434\n",
            "Epoch 92/100\n",
            "30/30 [==============================] - 0s 1ms/step - loss: 7186.6646 - mae: 7186.6646\n",
            "Epoch 93/100\n",
            "30/30 [==============================] - 0s 2ms/step - loss: 7453.2085 - mae: 7453.2085\n",
            "Epoch 94/100\n",
            "30/30 [==============================] - 0s 1ms/step - loss: 7201.6758 - mae: 7201.6758\n",
            "Epoch 95/100\n",
            "30/30 [==============================] - 0s 1ms/step - loss: 7126.4219 - mae: 7126.4219\n",
            "Epoch 96/100\n",
            "30/30 [==============================] - 0s 1ms/step - loss: 7251.7837 - mae: 7251.7837\n",
            "Epoch 97/100\n",
            "30/30 [==============================] - 0s 1ms/step - loss: 7200.8076 - mae: 7200.8076\n",
            "Epoch 98/100\n",
            "30/30 [==============================] - 0s 1ms/step - loss: 7321.1294 - mae: 7321.1294\n",
            "Epoch 99/100\n",
            "30/30 [==============================] - 0s 1ms/step - loss: 7323.5435 - mae: 7323.5435\n",
            "Epoch 100/100\n",
            "30/30 [==============================] - 0s 1ms/step - loss: 7285.5278 - mae: 7285.5278\n"
          ],
          "name": "stdout"
        },
        {
          "output_type": "execute_result",
          "data": {
            "text/plain": [
              "<tensorflow.python.keras.callbacks.History at 0x7f299c8e0e50>"
            ]
          },
          "metadata": {
            "tags": []
          },
          "execution_count": 48
        }
      ]
    },
    {
      "cell_type": "code",
      "metadata": {
        "colab": {
          "base_uri": "https://localhost:8080/"
        },
        "id": "L7Jr3JsxRdeT",
        "outputId": "f95d5d25-3481-4b7f-c1ee-c9f72b046cbe"
      },
      "source": [
        "model.evaluate(test_x, test_y)"
      ],
      "execution_count": 49,
      "outputs": [
        {
          "output_type": "stream",
          "text": [
            "13/13 [==============================] - 0s 2ms/step - loss: 7652.2476 - mae: 7652.2476\n"
          ],
          "name": "stdout"
        },
        {
          "output_type": "execute_result",
          "data": {
            "text/plain": [
              "[7652.24755859375, 7652.24755859375]"
            ]
          },
          "metadata": {
            "tags": []
          },
          "execution_count": 49
        }
      ]
    },
    {
      "cell_type": "code",
      "metadata": {
        "id": "EnsGsE4zRyn3"
      },
      "source": [
        "model_2 = tf.keras.Sequential([\n",
        "                               tf.keras.layers.InputLayer(input_shape = (11,)),\n",
        "                                                          tf.keras.layers.Dense(32, activation= \"relu\"),\n",
        "                                                          tf.keras.layers.Dense(64, activation= \"relu\"),\n",
        "                                                          tf.keras.layers.Dense(128, activation= \"relu\"),\n",
        "                                                          tf.keras.layers.Dense(64, activation=\"relu\"),\n",
        "                                                          tf.keras.layers.Dense(32, activation=\"relu\"),\n",
        "                                                          tf.keras.layers.Dense(1)\n",
        "])\n",
        "model_2.compile(loss = tf.keras.losses.mae,\n",
        "                optimizer = tf.keras.optimizers.Adam(),\n",
        "                metrics = [tf.keras.losses.mae])\n",
        "\n",
        "history = model_2.fit(train_x, train_y, epochs = 100, verbose = 0)"
      ],
      "execution_count": 61,
      "outputs": []
    },
    {
      "cell_type": "code",
      "metadata": {
        "colab": {
          "base_uri": "https://localhost:8080/"
        },
        "id": "-3Vsi8eDTD09",
        "outputId": "c6a0d514-e318-47e1-b943-aca93ff3385c"
      },
      "source": [
        "model_2.evaluate(test_x, test_y)"
      ],
      "execution_count": 62,
      "outputs": [
        {
          "output_type": "stream",
          "text": [
            "13/13 [==============================] - 0s 2ms/step - loss: 2025.9216 - mean_absolute_error: 2025.9216\n"
          ],
          "name": "stdout"
        },
        {
          "output_type": "execute_result",
          "data": {
            "text/plain": [
              "[2025.921630859375, 2025.921630859375]"
            ]
          },
          "metadata": {
            "tags": []
          },
          "execution_count": 62
        }
      ]
    },
    {
      "cell_type": "code",
      "metadata": {
        "colab": {
          "base_uri": "https://localhost:8080/",
          "height": 296
        },
        "id": "8DmOIikLTbpz",
        "outputId": "3411e6da-1def-47c4-b668-072e45384219"
      },
      "source": [
        "pd.DataFrame(history.history).plot()\n",
        "plt.ylabel(\"loss\")\n",
        "plt.xlabel(\"epochs\")"
      ],
      "execution_count": 63,
      "outputs": [
        {
          "output_type": "execute_result",
          "data": {
            "text/plain": [
              "Text(0.5, 0, 'epochs')"
            ]
          },
          "metadata": {
            "tags": []
          },
          "execution_count": 63
        },
        {
          "output_type": "display_data",
          "data": {
            "image/png": "[encoded data removed]",
            "text/plain": [
              "<Figure size 432x288 with 1 Axes>"
            ]
          },
          "metadata": {
            "tags": [],
            "needs_background": "light"
          }
        }
      ]
    },
    {
      "cell_type": "code",
      "metadata": {
        "id": "4xKOsEHRUKa1"
      },
      "source": [
        "## Preprocessing(Normalization and standardization)"
      ],
      "execution_count": 64,
      "outputs": []
    },
    {
      "cell_type": "code",
      "metadata": {
        "id": "CJ4IKkqvVOEW"
      },
      "source": [
        "from sklearn.compose import make_column_transformer\n",
        "from sklearn.preprocessing import StandardScaler\n",
        "from sklearn.preprocessing import OneHotEncoder"
      ],
      "execution_count": 69,
      "outputs": []
    },
    {
      "cell_type": "code",
      "metadata": {
        "colab": {
          "base_uri": "https://localhost:8080/"
        },
        "id": "ln0SIjywXG7V",
        "outputId": "c1e06d89-5eef-4615-85d6-f19b52be5902"
      },
      "source": [
        "# Create a column transformer\n",
        "ct= make_column_transformer((StandardScaler(), ['age', \"bmi\", 'children']),\n",
        "                            (OneHotEncoder(handle_unknown=\"ignore\"), ['sex','smoker','region']))\n",
        "X= ins.drop(\"charges\", axis =1)\n",
        "y = ins['charges']\n",
        "\n",
        "x_train, x_test, y_train, y_test = train_test_split(X, y, test_size = 0.2, random_state=42)\n",
        "\n",
        "ct.fit(x_train)\n",
        "                            "
      ],
      "execution_count": 70,
      "outputs": [
        {
          "output_type": "execute_result",
          "data": {
            "text/plain": [
              "ColumnTransformer(n_jobs=None, remainder='drop', sparse_threshold=0.3,\n",
              "                  transformer_weights=None,\n",
              "                  transformers=[('standardscaler',\n",
              "                                 StandardScaler(copy=True, with_mean=True,\n",
              "                                                with_std=True),\n",
              "                                 ['age', 'bmi', 'children']),\n",
              "                                ('onehotencoder',\n",
              "                                 OneHotEncoder(categories='auto', drop=None,\n",
              "                                               dtype=<class 'numpy.float64'>,\n",
              "                                               handle_unknown='ignore',\n",
              "                                               sparse=True),\n",
              "                                 ['sex', 'smoker', 'region'])],\n",
              "                  verbose=False)"
            ]
          },
          "metadata": {
            "tags": []
          },
          "execution_count": 70
        }
      ]
    },
    {
      "cell_type": "code",
      "metadata": {
        "id": "trAY14KEWGyH"
      },
      "source": [
        "x_train_normal= ct.transform(x_train)\n",
        "x_test_normal = ct.transform(x_test)"
      ],
      "execution_count": 71,
      "outputs": []
    },
    {
      "cell_type": "code",
      "metadata": {
        "id": "BT4Sz9SbWI7L"
      },
      "source": [
        "model_3 = tf.keras.Sequential([\n",
        "                               tf.keras.layers.InputLayer(input_shape = (11,)),\n",
        "                                                          tf.keras.layers.Dense(32, activation= \"relu\"),\n",
        "                                                          tf.keras.layers.Dense(64, activation= \"relu\"),\n",
        "                                                          tf.keras.layers.Dense(128, activation= \"relu\"),\n",
        "                                                          tf.keras.layers.Dense(64, activation=\"relu\"),\n",
        "                                                          tf.keras.layers.Dense(32, activation=\"relu\"),\n",
        "                                                          tf.keras.layers.Dense(1)\n",
        "])\n",
        "model_3.compile(loss = tf.keras.losses.mae,\n",
        "                optimizer = tf.keras.optimizers.Adam(),\n",
        "                metrics = [tf.keras.losses.mae])\n",
        "\n",
        "history = model_3.fit(x_train_normal, y_train, epochs = 100, verbose = 0)"
      ],
      "execution_count": 74,
      "outputs": []
    },
    {
      "cell_type": "code",
      "metadata": {
        "colab": {
          "base_uri": "https://localhost:8080/"
        },
        "id": "5yoLS0_4ZGkb",
        "outputId": "1a641aaf-8da6-4aaf-bbce-5621178021cb"
      },
      "source": [
        "model_3.evaluate(x_test_normal,y_test)"
      ],
      "execution_count": 75,
      "outputs": [
        {
          "output_type": "stream",
          "text": [
            "9/9 [==============================] - 0s 2ms/step - loss: 1547.0481 - mean_absolute_error: 1547.0481\n"
          ],
          "name": "stdout"
        },
        {
          "output_type": "execute_result",
          "data": {
            "text/plain": [
              "[1547.048095703125, 1547.048095703125]"
            ]
          },
          "metadata": {
            "tags": []
          },
          "execution_count": 75
        }
      ]
    },
    {
      "cell_type": "code",
      "metadata": {
        "colab": {
          "base_uri": "https://localhost:8080/",
          "height": 282
        },
        "id": "Fa2Q26yhZT12",
        "outputId": "891c9ddc-eb07-43bc-b1ac-e95c82729f57"
      },
      "source": [
        "pd.DataFrame(history.history).plot()"
      ],
      "execution_count": 78,
      "outputs": [
        {
          "output_type": "execute_result",
          "data": {
            "text/plain": [
              "<matplotlib.axes._subplots.AxesSubplot at 0x7f299522f550>"
            ]
          },
          "metadata": {
            "tags": []
          },
          "execution_count": 78
        },
        {
          "output_type": "display_data",
          "data": {
            "image/png": "[encoded data removed]",
            "text/plain": [
              "<Figure size 432x288 with 1 Axes>"
            ]
          },
          "metadata": {
            "tags": [],
            "needs_background": "light"
          }
        }
      ]
    },
    {
      "cell_type": "code",
      "metadata": {
        "id": "A0FJxiK_Zaj3"
      },
      "source": [
        ""
      ],
      "execution_count": null,
      "outputs": []
    }
  ]
}